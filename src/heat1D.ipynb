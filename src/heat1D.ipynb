{
 "cells": [
  {
   "cell_type": "code",
   "execution_count": 1,
   "metadata": {
    "collapsed": true,
    "deletable": true,
    "editable": true
   },
   "outputs": [],
   "source": [
    "import numpy as np\n",
    "import scipy as sp"
   ]
  },
  {
   "cell_type": "code",
   "execution_count": 2,
   "metadata": {
    "collapsed": false,
    "deletable": true,
    "editable": true
   },
   "outputs": [
    {
     "data": {
      "text/plain": [
       "(0.2, 100, 50000)"
      ]
     },
     "execution_count": 2,
     "metadata": {},
     "output_type": "execute_result"
    }
   ],
   "source": [
    "npoints = int(1e2)\n",
    "nsteps  = int(5e4)\n",
    "fac = 1. / (nsteps / (npoints * npoints))\n",
    "fac, npoints, nsteps"
   ]
  },
  {
   "cell_type": "code",
   "execution_count": 3,
   "metadata": {
    "collapsed": true,
    "deletable": true,
    "editable": true
   },
   "outputs": [],
   "source": [
    "u   = np.zeros(npoints)\n",
    "u_1 = np.zeros(npoints)"
   ]
  },
  {
   "cell_type": "code",
   "execution_count": 4,
   "metadata": {
    "collapsed": true,
    "deletable": true,
    "editable": true
   },
   "outputs": [],
   "source": [
    "def heat1d(npoints, fac, h, Uext):\n",
    "    h_new = np.zeros (npoints)\n",
    "    h_new[0] = h_new[-1] = Uext\n",
    "    for cell in range ( 1, npoints - 1 ):\n",
    "        h_new[cell] = h[cell] + fac * ( h[cell-1] - 2.0 * h[cell] + h[cell+1] ) \n",
    "\n",
    "    return h_new"
   ]
  },
  {
   "cell_type": "code",
   "execution_count": 5,
   "metadata": {
    "collapsed": false,
    "deletable": true,
    "editable": true
   },
   "outputs": [],
   "source": [
    "# Set initial condition u(x,0) = I(x)\n",
    "for i in range(1, npoints-1):\n",
    "    u_1[i] = 0\n",
    "    \n",
    "U_extreme = 100.    \n",
    "u_1[0] = u_1[-1] = U_extreme\n",
    "u[0]   = u[-1]   = U_extreme"
   ]
  },
  {
   "cell_type": "code",
   "execution_count": 6,
   "metadata": {
    "collapsed": false,
    "deletable": true,
    "editable": true
   },
   "outputs": [],
   "source": [
    "for n in range(0, nsteps):\n",
    "    # Compute u at inner mesh points\n",
    "    u = heat1d(npoints, fac, u_1,U_extreme)\n",
    "    u_1 = np.copy(u)\n",
    "    #u_1[0] = u_1[npoints] = 100."
   ]
  },
  {
   "cell_type": "code",
   "execution_count": 7,
   "metadata": {
    "collapsed": false,
    "deletable": true,
    "editable": true
   },
   "outputs": [
    {
     "data": {
      "text/plain": [
       "array([ 100.        ,   99.99982904,   99.99965825,   99.9994878 ,\n",
       "         99.99931788,   99.99914863,   99.99898025,   99.99881289,\n",
       "         99.99864673,   99.99848193,   99.99831865,   99.99815707,\n",
       "         99.99799735,   99.99783964,   99.99768411,   99.99753091,\n",
       "         99.9973802 ,   99.99723213,   99.99708684,   99.99694448,\n",
       "         99.9968052 ,   99.99666914,   99.99653643,   99.99640721,\n",
       "         99.99628161,   99.99615975,   99.99604176,   99.99592775,\n",
       "         99.99581785,   99.99571215,   99.99561078,   99.99551382,\n",
       "         99.99542138,   99.99533355,   99.99525042,   99.99517207,\n",
       "         99.99509858,   99.99503003,   99.99496648,   99.994908  ,\n",
       "         99.99485465,   99.99480648,   99.99476354,   99.99472587,\n",
       "         99.99469351,   99.99466649,   99.99464485,   99.9946286 ,\n",
       "         99.99461775,   99.99461233,   99.99461233,   99.99461775,\n",
       "         99.9946286 ,   99.99464485,   99.99466649,   99.99469351,\n",
       "         99.99472587,   99.99476354,   99.99480648,   99.99485465,\n",
       "         99.994908  ,   99.99496648,   99.99503003,   99.99509858,\n",
       "         99.99517207,   99.99525042,   99.99533355,   99.99542138,\n",
       "         99.99551382,   99.99561078,   99.99571215,   99.99581785,\n",
       "         99.99592775,   99.99604176,   99.99615975,   99.99628161,\n",
       "         99.99640721,   99.99653643,   99.99666914,   99.9968052 ,\n",
       "         99.99694448,   99.99708684,   99.99723213,   99.9973802 ,\n",
       "         99.99753091,   99.99768411,   99.99783964,   99.99799735,\n",
       "         99.99815707,   99.99831865,   99.99848193,   99.99864673,\n",
       "         99.99881289,   99.99898025,   99.99914863,   99.99931788,\n",
       "         99.9994878 ,   99.99965825,   99.99982904,  100.        ])"
      ]
     },
     "execution_count": 7,
     "metadata": {},
     "output_type": "execute_result"
    }
   ],
   "source": [
    "u"
   ]
  },
  {
   "cell_type": "code",
   "execution_count": 8,
   "metadata": {
    "collapsed": false,
    "deletable": true,
    "editable": true
   },
   "outputs": [
    {
     "data": {
      "text/plain": [
       "99.996534955717308"
      ]
     },
     "execution_count": 8,
     "metadata": {},
     "output_type": "execute_result"
    }
   ],
   "source": [
    "np.mean(u[1:npoints-1])"
   ]
  },
  {
   "cell_type": "code",
   "execution_count": 9,
   "metadata": {
    "collapsed": false
   },
   "outputs": [
    {
     "data": {
      "text/plain": [
       "array([ 99.99982904,  99.99965825,  99.9994878 ,  99.99931788,\n",
       "        99.99914863,  99.99898025,  99.99881289,  99.99864673,\n",
       "        99.99848193,  99.99831865,  99.99815707,  99.99799735,\n",
       "        99.99783964,  99.99768411,  99.99753091,  99.9973802 ,\n",
       "        99.99723213,  99.99708684,  99.99694448,  99.9968052 ,\n",
       "        99.99666914,  99.99653643,  99.99640721,  99.99628161,\n",
       "        99.99615975,  99.99604176,  99.99592775,  99.99581785,\n",
       "        99.99571215,  99.99561078,  99.99551382,  99.99542138,\n",
       "        99.99533355,  99.99525042,  99.99517207,  99.99509858,\n",
       "        99.99503003,  99.99496648,  99.994908  ,  99.99485465,\n",
       "        99.99480648,  99.99476354,  99.99472587,  99.99469351,\n",
       "        99.99466649,  99.99464485,  99.9946286 ,  99.99461775,\n",
       "        99.99461233,  99.99461233,  99.99461775,  99.9946286 ,\n",
       "        99.99464485,  99.99466649,  99.99469351,  99.99472587,\n",
       "        99.99476354,  99.99480648,  99.99485465,  99.994908  ,\n",
       "        99.99496648,  99.99503003,  99.99509858,  99.99517207,\n",
       "        99.99525042,  99.99533355,  99.99542138,  99.99551382,\n",
       "        99.99561078,  99.99571215,  99.99581785,  99.99592775,\n",
       "        99.99604176,  99.99615975,  99.99628161,  99.99640721,\n",
       "        99.99653643,  99.99666914,  99.9968052 ,  99.99694448,\n",
       "        99.99708684,  99.99723213,  99.9973802 ,  99.99753091,\n",
       "        99.99768411,  99.99783964,  99.99799735,  99.99815707,\n",
       "        99.99831865,  99.99848193,  99.99864673,  99.99881289,\n",
       "        99.99898025,  99.99914863,  99.99931788,  99.9994878 ,\n",
       "        99.99965825,  99.99982904])"
      ]
     },
     "execution_count": 9,
     "metadata": {},
     "output_type": "execute_result"
    }
   ],
   "source": [
    "u[1:npoints-1]"
   ]
  },
  {
   "cell_type": "code",
   "execution_count": null,
   "metadata": {
    "collapsed": true
   },
   "outputs": [],
   "source": []
  }
 ],
 "metadata": {
  "kernelspec": {
   "display_name": "Python 3",
   "language": "python",
   "name": "python3"
  },
  "language_info": {
   "codemirror_mode": {
    "name": "ipython",
    "version": 3
   },
   "file_extension": ".py",
   "mimetype": "text/x-python",
   "name": "python",
   "nbconvert_exporter": "python",
   "pygments_lexer": "ipython3",
   "version": "3.5.1"
  }
 },
 "nbformat": 4,
 "nbformat_minor": 2
}
