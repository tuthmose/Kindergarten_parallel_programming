{
 "cells": [
  {
   "cell_type": "markdown",
   "metadata": {
    "slideshow": {
     "slide_type": "slide"
    }
   },
   "source": [
    "# 10 - Cython and Swig"
   ]
  },
  {
   "cell_type": "markdown",
   "metadata": {
    "slideshow": {
     "slide_type": "subslide"
    }
   },
   "source": [
    "[1 - Python Decorators](#one)  \n",
    "[2 - Cython](#two)  \n",
    "[3 - For those about Fortran: F2PY](#three)  \n",
    "[4 - SWIG: the Simple Wrapper Interface Generator](#four)  "
   ]
  },
  {
   "cell_type": "code",
   "execution_count": 1,
   "metadata": {
    "slideshow": {
     "slide_type": "subslide"
    }
   },
   "outputs": [],
   "source": [
    "from IPython.display import Image"
   ]
  },
  {
   "cell_type": "code",
   "execution_count": 2,
   "metadata": {
    "slideshow": {
     "slide_type": "subslide"
    }
   },
   "outputs": [],
   "source": [
    "import importlib as imp\n",
    "import matplotlib.pyplot as plt\n",
    "import numpy as np\n",
    "import math\n",
    "\n",
    "from re import search\n",
    "\n",
    "%matplotlib inline\n",
    "%load_ext Cython"
   ]
  },
  {
   "cell_type": "code",
   "execution_count": 3,
   "metadata": {
    "slideshow": {
     "slide_type": "fragment"
    }
   },
   "outputs": [],
   "source": [
    "%alias clean rm -f *.c *.exe *.py *.pyc *.s .*f95 *.o *.fo *log *.h *.cc *.mod"
   ]
  },
  {
   "cell_type": "code",
   "execution_count": 4,
   "metadata": {
    "slideshow": {
     "slide_type": "fragment"
    }
   },
   "outputs": [],
   "source": [
    "%clean"
   ]
  },
  {
   "cell_type": "markdown",
   "metadata": {
    "slideshow": {
     "slide_type": "skip"
    }
   },
   "source": [
    "<a id=\"one\"></a>"
   ]
  },
  {
   "cell_type": "markdown",
   "metadata": {
    "slideshow": {
     "slide_type": "slide"
    }
   },
   "source": [
    "# Python Decorators"
   ]
  },
  {
   "cell_type": "markdown",
   "metadata": {
    "slideshow": {
     "slide_type": "subslide"
    }
   },
   "source": [
    "Python functions are objects themselves and can be the object of assignment:"
   ]
  },
  {
   "cell_type": "code",
   "execution_count": 5,
   "metadata": {
    "slideshow": {
     "slide_type": "fragment"
    }
   },
   "outputs": [
    {
     "data": {
      "text/plain": [
       "<function __main__.foo>"
      ]
     },
     "execution_count": 5,
     "metadata": {},
     "output_type": "execute_result"
    }
   ],
   "source": [
    "def foo():\n",
    "    print(\"Alpha\",\"Bravo\",\"Charlie\")\n",
    "foo"
   ]
  },
  {
   "cell_type": "code",
   "execution_count": 6,
   "metadata": {
    "slideshow": {
     "slide_type": "fragment"
    }
   },
   "outputs": [
    {
     "data": {
      "text/plain": [
       "<function __main__.foo>"
      ]
     },
     "execution_count": 6,
     "metadata": {},
     "output_type": "execute_result"
    }
   ],
   "source": [
    "baz = foo\n",
    "baz"
   ]
  },
  {
   "cell_type": "code",
   "execution_count": 7,
   "metadata": {
    "slideshow": {
     "slide_type": "fragment"
    }
   },
   "outputs": [
    {
     "name": "stdout",
     "output_type": "stream",
     "text": [
      "Alpha Bravo Charlie\n"
     ]
    }
   ],
   "source": [
    "baz()"
   ]
  },
  {
   "cell_type": "markdown",
   "metadata": {
    "slideshow": {
     "slide_type": "subslide"
    }
   },
   "source": [
    "Suppose we define a function within another function definition:"
   ]
  },
  {
   "cell_type": "code",
   "execution_count": 8,
   "metadata": {
    "collapsed": true,
    "slideshow": {
     "slide_type": "fragment"
    }
   },
   "outputs": [],
   "source": [
    "def change_repr(arg1):\n",
    "    assert isinstance(arg1,int)\n",
    "    def binary(arg1):\n",
    "        print(bin(arg1))\n",
    "        return bin(arg1)\n",
    "    def hexa_dec(arg1):\n",
    "        print(hex(arg1))\n",
    "        return hex(arg1)\n",
    "    binary(arg1)\n",
    "    hexa_dec(arg1)"
   ]
  },
  {
   "cell_type": "code",
   "execution_count": 9,
   "metadata": {
    "slideshow": {
     "slide_type": "fragment"
    }
   },
   "outputs": [
    {
     "name": "stdout",
     "output_type": "stream",
     "text": [
      "0b1010\n",
      "0xa\n",
      "Returned value  None\n"
     ]
    }
   ],
   "source": [
    "a = change_repr(10)\n",
    "print(\"Returned value \",a)"
   ]
  },
  {
   "cell_type": "markdown",
   "metadata": {
    "slideshow": {
     "slide_type": "subslide"
    }
   },
   "source": [
    "`binary` and `hexa_dec` are defined in the local scope of `change_repr` and not available outside of it.  \n",
    "Recall the Python sequence of scopes: **Local**, **Enclosing**, **Global**, **Built-in** (**LEGB**).  \n",
    "It is also possible to pass function as parameters to other functions:"
   ]
  },
  {
   "cell_type": "code",
   "execution_count": 10,
   "metadata": {
    "collapsed": true,
    "slideshow": {
     "slide_type": "fragment"
    }
   },
   "outputs": [],
   "source": [
    "def change_repr(arg, func):\n",
    "    if isinstance(arg,int):\n",
    "        return func(arg)\n",
    "    else:\n",
    "        return func(int(arg))\n",
    "def binary(arg1):\n",
    "    assert isinstance(arg1,int)\n",
    "    print(\"Binary representation\")\n",
    "    return bin(arg1)"
   ]
  },
  {
   "cell_type": "code",
   "execution_count": 11,
   "metadata": {
    "slideshow": {
     "slide_type": "fragment"
    }
   },
   "outputs": [
    {
     "name": "stdout",
     "output_type": "stream",
     "text": [
      "Binary representation\n",
      "Returned value  0b1010\n"
     ]
    }
   ],
   "source": [
    "a = change_repr(10, binary)\n",
    "print(\"Returned value \",a)"
   ]
  },
  {
   "cell_type": "code",
   "execution_count": 12,
   "metadata": {
    "slideshow": {
     "slide_type": "fragment"
    }
   },
   "outputs": [
    {
     "ename": "AssertionError",
     "evalue": "",
     "output_type": "error",
     "traceback": [
      "\u001b[0;31m---------------------------------------------------------------------------\u001b[0m",
      "\u001b[0;31mAssertionError\u001b[0m                            Traceback (most recent call last)",
      "\u001b[0;32m<ipython-input-12-33612f4351e3>\u001b[0m in \u001b[0;36m<module>\u001b[0;34m()\u001b[0m\n\u001b[0;32m----> 1\u001b[0;31m \u001b[0mbinary\u001b[0m\u001b[0;34m(\u001b[0m\u001b[0;36m10.2\u001b[0m\u001b[0;34m)\u001b[0m\u001b[0;34m\u001b[0m\u001b[0m\n\u001b[0m",
      "\u001b[0;32m<ipython-input-10-051917506a0d>\u001b[0m in \u001b[0;36mbinary\u001b[0;34m(arg1)\u001b[0m\n\u001b[1;32m      5\u001b[0m         \u001b[0;32mreturn\u001b[0m \u001b[0mfunc\u001b[0m\u001b[0;34m(\u001b[0m\u001b[0mint\u001b[0m\u001b[0;34m(\u001b[0m\u001b[0marg\u001b[0m\u001b[0;34m)\u001b[0m\u001b[0;34m)\u001b[0m\u001b[0;34m\u001b[0m\u001b[0m\n\u001b[1;32m      6\u001b[0m \u001b[0;32mdef\u001b[0m \u001b[0mbinary\u001b[0m\u001b[0;34m(\u001b[0m\u001b[0marg1\u001b[0m\u001b[0;34m)\u001b[0m\u001b[0;34m:\u001b[0m\u001b[0;34m\u001b[0m\u001b[0m\n\u001b[0;32m----> 7\u001b[0;31m     \u001b[0;32massert\u001b[0m \u001b[0misinstance\u001b[0m\u001b[0;34m(\u001b[0m\u001b[0marg1\u001b[0m\u001b[0;34m,\u001b[0m\u001b[0mint\u001b[0m\u001b[0;34m)\u001b[0m\u001b[0;34m\u001b[0m\u001b[0m\n\u001b[0m\u001b[1;32m      8\u001b[0m     \u001b[0mprint\u001b[0m\u001b[0;34m(\u001b[0m\u001b[0;34m\"Binary representation\"\u001b[0m\u001b[0;34m)\u001b[0m\u001b[0;34m\u001b[0m\u001b[0m\n\u001b[1;32m      9\u001b[0m     \u001b[0;32mreturn\u001b[0m \u001b[0mbin\u001b[0m\u001b[0;34m(\u001b[0m\u001b[0marg1\u001b[0m\u001b[0;34m)\u001b[0m\u001b[0;34m\u001b[0m\u001b[0m\n",
      "\u001b[0;31mAssertionError\u001b[0m: "
     ]
    }
   ],
   "source": [
    "binary(10.2)"
   ]
  },
  {
   "cell_type": "code",
   "execution_count": 13,
   "metadata": {
    "slideshow": {
     "slide_type": "fragment"
    }
   },
   "outputs": [
    {
     "name": "stdout",
     "output_type": "stream",
     "text": [
      "Binary representation\n"
     ]
    },
    {
     "data": {
      "text/plain": [
       "'0b1010'"
      ]
     },
     "execution_count": 13,
     "metadata": {},
     "output_type": "execute_result"
    }
   ],
   "source": [
    "change_repr(10.2, binary)"
   ]
  },
  {
   "cell_type": "markdown",
   "metadata": {
    "slideshow": {
     "slide_type": "subslide"
    }
   },
   "source": [
    "Hence, `change_repr` is a sort of *wrapper* that checks input correctness for `binary` and modifies its behaviour.  \n",
    "The former can be used to create a more fault tolerant version of the latter.  \n",
    "We can have an even more flexible than that since function can be also *returned*. "
   ]
  },
  {
   "cell_type": "code",
   "execution_count": 14,
   "metadata": {
    "collapsed": true,
    "slideshow": {
     "slide_type": "fragment"
    }
   },
   "outputs": [],
   "source": [
    "def hexa_dec(arg1):\n",
    "    assert isinstance(arg1,int)\n",
    "    return hex(arg1)\n",
    "\n",
    "def change_repr(func):\n",
    "    def newfunc(arg):\n",
    "        arg = int(arg)\n",
    "        return func(arg)\n",
    "    return newfunc"
   ]
  },
  {
   "cell_type": "code",
   "execution_count": 15,
   "metadata": {
    "slideshow": {
     "slide_type": "fragment"
    }
   },
   "outputs": [
    {
     "data": {
      "text/plain": [
       "<function __main__.change_repr.<locals>.newfunc>"
      ]
     },
     "execution_count": 15,
     "metadata": {},
     "output_type": "execute_result"
    }
   ],
   "source": [
    "hexa_dec = change_repr(hexa_dec)\n",
    "hexa_dec"
   ]
  },
  {
   "cell_type": "code",
   "execution_count": 16,
   "metadata": {
    "slideshow": {
     "slide_type": "fragment"
    }
   },
   "outputs": [
    {
     "data": {
      "text/plain": [
       "'0xa'"
      ]
     },
     "execution_count": 16,
     "metadata": {},
     "output_type": "execute_result"
    }
   ],
   "source": [
    "hexa_dec(10.2)"
   ]
  },
  {
   "cell_type": "code",
   "execution_count": 17,
   "metadata": {
    "slideshow": {
     "slide_type": "fragment"
    }
   },
   "outputs": [
    {
     "ename": "TypeError",
     "evalue": "'float' object cannot be interpreted as an integer",
     "output_type": "error",
     "traceback": [
      "\u001b[0;31m---------------------------------------------------------------------------\u001b[0m",
      "\u001b[0;31mTypeError\u001b[0m                                 Traceback (most recent call last)",
      "\u001b[0;32m<ipython-input-17-a593de205823>\u001b[0m in \u001b[0;36m<module>\u001b[0;34m()\u001b[0m\n\u001b[0;32m----> 1\u001b[0;31m \u001b[0mhex\u001b[0m\u001b[0;34m(\u001b[0m\u001b[0;36m10.2\u001b[0m\u001b[0;34m)\u001b[0m\u001b[0;34m\u001b[0m\u001b[0m\n\u001b[0m",
      "\u001b[0;31mTypeError\u001b[0m: 'float' object cannot be interpreted as an integer"
     ]
    }
   ],
   "source": [
    "hex(10.2)"
   ]
  },
  {
   "cell_type": "markdown",
   "metadata": {
    "slideshow": {
     "slide_type": "subslide"
    }
   },
   "source": [
    "we call this function that modifies the behaviour of another function a *decorator*.  One problem we have with this approach is that we have lost information on the true nature of `hexa_dec` (see also above).  "
   ]
  },
  {
   "cell_type": "code",
   "execution_count": 18,
   "metadata": {},
   "outputs": [
    {
     "name": "stdout",
     "output_type": "stream",
     "text": [
      "Writing myfirstdecorator.py\n"
     ]
    }
   ],
   "source": [
    "%%writefile myfirstdecorator.py\n",
    "def change_repr(func):\n",
    "    def wrapper(arg):\n",
    "        arg = int(arg)\n",
    "        return func(arg)\n",
    "    return wrapper"
   ]
  },
  {
   "cell_type": "code",
   "execution_count": 19,
   "metadata": {
    "slideshow": {
     "slide_type": "fragment"
    }
   },
   "outputs": [
    {
     "name": "stdout",
     "output_type": "stream",
     "text": [
      "wrapper myfirstdecorator\n",
      "binary __main__\n"
     ]
    }
   ],
   "source": [
    "import myfirstdecorator\n",
    "\n",
    "hexa_dec = myfirstdecorator.change_repr(hexa_dec)\n",
    "print(hexa_dec.__name__, hexa_dec.__module__)\n",
    "print(binary.__name__, binary.__module__)"
   ]
  },
  {
   "cell_type": "markdown",
   "metadata": {
    "slideshow": {
     "slide_type": "subslide"
    }
   },
   "source": [
    "this however can be easily solved reassigning the `__name__` and `__module__` (and others like `__doc__`) attributes:"
   ]
  },
  {
   "cell_type": "code",
   "execution_count": 20,
   "metadata": {
    "slideshow": {
     "slide_type": "fragment"
    }
   },
   "outputs": [
    {
     "name": "stdout",
     "output_type": "stream",
     "text": [
      "Overwriting myfirstdecorator.py\n"
     ]
    }
   ],
   "source": [
    "%%writefile myfirstdecorator.py\n",
    "def change_repr(func):\n",
    "    def wrapper(arg):\n",
    "        arg = int(arg)\n",
    "        return func(arg)\n",
    "    wrapper.__name__ = func.__name__\n",
    "    wrapper.__module__ = func.__module__\n",
    "    return wrapper"
   ]
  },
  {
   "cell_type": "code",
   "execution_count": 21,
   "metadata": {
    "slideshow": {
     "slide_type": "fragment"
    }
   },
   "outputs": [
    {
     "name": "stdout",
     "output_type": "stream",
     "text": [
      "hexa_dec __main__\n"
     ]
    }
   ],
   "source": [
    "imp.reload(myfirstdecorator)\n",
    "\n",
    "def hexa_dec(arg1):\n",
    "    assert isinstance(arg1,int)\n",
    "    return hex(arg1)\n",
    "hexa_dec = myfirstdecorator.change_repr(hexa_dec)\n",
    "hexa_dec(10.2)\n",
    "print(hexa_dec.__name__, hexa_dec.__module__)"
   ]
  },
  {
   "cell_type": "markdown",
   "metadata": {
    "slideshow": {
     "slide_type": "subslide"
    }
   },
   "source": [
    "python provides a simplified syntax and a library, called **wraps**, to simplify the development and use of decorators:"
   ]
  },
  {
   "cell_type": "code",
   "execution_count": 22,
   "metadata": {
    "slideshow": {
     "slide_type": "fragment"
    }
   },
   "outputs": [
    {
     "name": "stdout",
     "output_type": "stream",
     "text": [
      "Overwriting myfirstdecorator.py\n"
     ]
    }
   ],
   "source": [
    "%%writefile myfirstdecorator.py\n",
    "from functools import wraps\n",
    "\n",
    "def change_repr(func):\n",
    "    @wraps(func)\n",
    "    def wrapper(arg):\n",
    "        arg = int(arg)\n",
    "        return func(arg)\n",
    "    return wrapper"
   ]
  },
  {
   "cell_type": "code",
   "execution_count": 23,
   "metadata": {
    "slideshow": {
     "slide_type": "fragment"
    }
   },
   "outputs": [
    {
     "name": "stdout",
     "output_type": "stream",
     "text": [
      "hexa_dec __main__\n"
     ]
    }
   ],
   "source": [
    "imp.reload(myfirstdecorator)\n",
    "\n",
    "@myfirstdecorator.change_repr\n",
    "def hexa_dec(arg1):\n",
    "    assert isinstance(arg1,int)\n",
    "    return hex(arg1)\n",
    "\n",
    "hexa_dec(10.2)\n",
    "print(hexa_dec.__name__, hexa_dec.__module__)"
   ]
  },
  {
   "cell_type": "markdown",
   "metadata": {
    "slideshow": {
     "slide_type": "subslide"
    }
   },
   "source": [
    "## Exercise 0\n",
    "\n",
    "1. Write functions and decorators to create a *polynomial factory* that returns an object able to evaluate:  \n",
    "$$ \\sum_{k=1}^N a_k x^k $$\n",
    "\n",
    " with an arbitrary list of non zero parameters and exponents.\n",
    "\n",
    "2. Create a *profile decorator* that keeps track of the number of calls and elapsed time for a generic function. Use a relatively expensive function for testing, such as the formula by Srinivasa Ramanujan (see also [here](#https://en.wikipedia.org/wiki/Pi#Approximate_value)) can be used to estimate $\\pi$:\n",
    "\n",
    "$$ \\frac{1}{\\pi} = \\frac{2\\sqrt{2}}{9801} \\sum_{k=0}^{\\infty} \\frac {(4k!)(1103+26390 k)} {(k!)^4 (396)^{4k}} $$\n",
    "\n",
    " you may implement it with a convergence criterion based on the value of the last term computed of `1e-15`; test against `math.pi`."
   ]
  },
  {
   "cell_type": "code",
   "execution_count": 24,
   "metadata": {
    "slideshow": {
     "slide_type": "fragment"
    }
   },
   "outputs": [
    {
     "data": {
      "image/png": "[encoded data removed]",
      "text/plain": [
       "<IPython.core.display.Image object>"
      ]
     },
     "execution_count": 24,
     "metadata": {},
     "output_type": "execute_result"
    }
   ],
   "source": [
    "Image(\"pictures/gears.png\")"
   ]
  },
  {
   "cell_type": "markdown",
   "metadata": {
    "slideshow": {
     "slide_type": "subslide"
    }
   },
   "source": [
    "## Solution 0"
   ]
  },
  {
   "cell_type": "markdown",
   "metadata": {
    "slideshow": {
     "slide_type": "subslide"
    }
   },
   "source": [
    "** 1 **"
   ]
  },
  {
   "cell_type": "code",
   "execution_count": 25,
   "metadata": {
    "collapsed": true,
    "slideshow": {
     "slide_type": "fragment"
    }
   },
   "outputs": [],
   "source": [
    "def factory(*args):\n",
    "    def myfunc(x):\n",
    "        y = 0.\n",
    "        for coeff, expn in args:\n",
    "            y += coeff * (x ** expn)\n",
    "        return y\n",
    "    return myfunc"
   ]
  },
  {
   "cell_type": "code",
   "execution_count": 26,
   "metadata": {
    "slideshow": {
     "slide_type": "fragment"
    }
   },
   "outputs": [
    {
     "data": {
      "text/plain": [
       "186.82647360307192"
      ]
     },
     "execution_count": 26,
     "metadata": {},
     "output_type": "execute_result"
    }
   ],
   "source": [
    "myf = factory((6.,6.), (10.,10.), (12.,12.))\n",
    "myf(1.2)"
   ]
  },
  {
   "cell_type": "markdown",
   "metadata": {
    "slideshow": {
     "slide_type": "subslide"
    }
   },
   "source": [
    "** 2 **"
   ]
  },
  {
   "cell_type": "code",
   "execution_count": 27,
   "metadata": {
    "collapsed": true,
    "slideshow": {
     "slide_type": "fragment"
    }
   },
   "outputs": [],
   "source": [
    "from datetime import datetime\n",
    "\n",
    "def profile(func):\n",
    "    def wrapper(*args, **kwargs):\n",
    "        t0 = datetime.now()\n",
    "        wrapper.count += 1\n",
    "        return func(*args, **kwargs), (datetime.now()-t0).total_seconds()\n",
    "    wrapper.count   = 0\n",
    "    wrapper.el_time = 0\n",
    "    return wrapper"
   ]
  },
  {
   "cell_type": "code",
   "execution_count": 28,
   "metadata": {
    "slideshow": {
     "slide_type": "fragment"
    }
   },
   "outputs": [],
   "source": [
    "# credits to http://greenteapress.com/wp/think-python/\n",
    "\n",
    "@profile\n",
    "def estimate_pi():\n",
    "    \"\"\"Computes an estimate of pi.\n",
    "\n",
    "    Algorithm due to Srinivasa Ramanujan, from \n",
    "    http://en.wikipedia.org/wiki/Pi\n",
    "    \"\"\"\n",
    "    total = 0\n",
    "    k = 0\n",
    "    const = 2. * math.sqrt(2.) / 9801.\n",
    "    while True:\n",
    "        num = math.factorial(4*k) * (1103 + 26390*k)\n",
    "        den = math.factorial(k)**4 * 396**(4*k)\n",
    "        term = const * num / den\n",
    "        total += term       \n",
    "        if abs(term) < 1e-15: break\n",
    "        k += 1\n",
    "    return 1. / total"
   ]
  },
  {
   "cell_type": "code",
   "execution_count": 29,
   "metadata": {
    "slideshow": {
     "slide_type": "fragment"
    }
   },
   "outputs": [
    {
     "name": "stdout",
     "output_type": "stream",
     "text": [
      "(3.141592653589793, 3.1e-05)\n",
      "(3.141592653589793, 1.6e-05)\n",
      "(3.141592653589793, 1.4e-05)\n"
     ]
    },
    {
     "data": {
      "text/plain": [
       "3"
      ]
     },
     "execution_count": 29,
     "metadata": {},
     "output_type": "execute_result"
    }
   ],
   "source": [
    "for i in range(3):\n",
    "    print(estimate_pi())\n",
    "estimate_pi.count"
   ]
  },
  {
   "cell_type": "markdown",
   "metadata": {
    "slideshow": {
     "slide_type": "skip"
    }
   },
   "source": [
    "<a id=\"two\"></a>"
   ]
  },
  {
   "cell_type": "markdown",
   "metadata": {
    "slideshow": {
     "slide_type": "slide"
    }
   },
   "source": [
    "# Cython"
   ]
  },
  {
   "cell_type": "code",
   "execution_count": 30,
   "metadata": {
    "scrolled": false,
    "slideshow": {
     "slide_type": "subslide"
    }
   },
   "outputs": [
    {
     "data": {
      "image/png": "[encoded data removed]",
      "text/plain": [
       "<IPython.core.display.Image object>"
      ]
     },
     "execution_count": 30,
     "metadata": {},
     "output_type": "execute_result"
    }
   ],
   "source": [
    "Image(\"pictures/cy_logo.png\")"
   ]
  },
  {
   "cell_type": "markdown",
   "metadata": {
    "slideshow": {
     "slide_type": "fragment"
    }
   },
   "source": [
    "The fundamental nature of Cython can be summed up as follows: Cython is Python with C data types. This means that Cython can handle at the same type:\n",
    "\n",
    "- almost any native Python code\n",
    "- intermixed C and Python variable and commands\n",
    "\n",
    "what happens: the Cython compiler reads in a .pxy file and produces a .c file; the C file is compiled; the resulting module is linked against the CPython library, and used by the interpreter\n",
    "\n",
    "More precisely (from the documentation):\n",
    "\n",
    "*Cython is an optimising static compiler for both the Python programming language and the extended Cython programming language. \n",
    "The Cython language is a superset of the Python language that additionally supports calling C functions and declaring C types on variables and class attributes. This allows the compiler to generate very efficient C code from Cython code. The C code is generated once and then compiles with all major C/C++ compilers.*"
   ]
  },
  {
   "cell_type": "markdown",
   "metadata": {
    "slideshow": {
     "slide_type": "subslide"
    }
   },
   "source": [
    "So, that's your world without Cython'"
   ]
  },
  {
   "cell_type": "code",
   "execution_count": 31,
   "metadata": {
    "slideshow": {
     "slide_type": "fragment"
    }
   },
   "outputs": [
    {
     "data": {
      "image/png": "[encoded data removed]",
      "text/plain": [
       "<IPython.core.display.Image object>"
      ]
     },
     "execution_count": 31,
     "metadata": {},
     "output_type": "execute_result"
    }
   ],
   "source": [
    "Image(\"pictures/wo_cython.png\")"
   ]
  },
  {
   "cell_type": "markdown",
   "metadata": {
    "slideshow": {
     "slide_type": "subslide"
    }
   },
   "source": [
    "With Cython:"
   ]
  },
  {
   "cell_type": "code",
   "execution_count": 32,
   "metadata": {
    "slideshow": {
     "slide_type": "fragment"
    }
   },
   "outputs": [
    {
     "data": {
      "image/png": "[encoded data removed]",
      "text/plain": [
       "<IPython.core.display.Image object>"
      ]
     },
     "execution_count": 32,
     "metadata": {},
     "output_type": "execute_result"
    }
   ],
   "source": [
    "Image(\"pictures/wcy.png\")"
   ]
  },
  {
   "cell_type": "markdown",
   "metadata": {
    "slideshow": {
     "slide_type": "subslide"
    }
   },
   "source": [
    "### Summing integers\n",
    "\n",
    "What if we want to use Cython? Generally speaking, this should include a compilation step, converting the Cython code to C.  In the following, we will take advantage of the `%%cython` cell magic to pass compilation options to cython."
   ]
  },
  {
   "cell_type": "code",
   "execution_count": 33,
   "metadata": {
    "slideshow": {
     "slide_type": "fragment"
    }
   },
   "outputs": [
    {
     "name": "stdout",
     "output_type": "stream",
     "text": [
      "an integer is required\n",
      "12\n"
     ]
    }
   ],
   "source": [
    "%%cython\n",
    "def mymultiply(int a,int b):\n",
    "    cdef int c = a*b\n",
    "    return c\n",
    "try:\n",
    "    mymultiply(\"w\",\"q\")\n",
    "except TypeError as e:\n",
    "    print(e)\n",
    "finally:\n",
    "    print(mymultiply(3.,4.))"
   ]
  },
  {
   "cell_type": "markdown",
   "metadata": {
    "slideshow": {
     "slide_type": "subslide"
    }
   },
   "source": [
    "**cdef** may be used to declare C types and structures (and also **union** and **enum** types). **cdef** may also be used to declare functions and classes (known as extensions, behave like a builtin) with C attributes which are then callable from C. **cpdef** puts a Python wrapper around a C function definition and makes it callable from C and Python.\n",
    "\n",
    "- def func(int x):  \n",
    "    *caller passes Python object x*  \n",
    "    *function converts to C int on entry*  \n",
    "    *implicit return type always object*  \n",
    "    \n",
    "    \n",
    "- cdef int func(int x):  \n",
    "    *caller converts arguments as required*  \n",
    "    *function receives C an int*  \n",
    "    *arbitrary return type, defaults to object*  \n",
    "    \n",
    "    \n",
    "- cpdef int func(int x):  \n",
    "    *a C version of the function is generated as with cdef*  \n",
    "    *a Python version is also generated and available to the interpreter (converting Ctypes to objects when returning functions)*"
   ]
  },
  {
   "cell_type": "code",
   "execution_count": 34,
   "metadata": {
    "slideshow": {
     "slide_type": "fragment"
    }
   },
   "outputs": [
    {
     "name": "stdout",
     "output_type": "stream",
     "text": [
      "The slowest run took 7.83 times longer than the fastest. This could mean that an intermediate result is being cached.\n",
      "1000 loops, best of 3: 258 µs per loop\n"
     ]
    }
   ],
   "source": [
    "%%timeit\n",
    "%%cython\n",
    "n = int(1e6)\n",
    "cdef int j = 0\n",
    "cdef int i\n",
    "for i in range(n): \n",
    "    j += i"
   ]
  },
  {
   "cell_type": "code",
   "execution_count": 35,
   "metadata": {
    "slideshow": {
     "slide_type": "fragment"
    }
   },
   "outputs": [
    {
     "name": "stdout",
     "output_type": "stream",
     "text": [
      "10 loops, best of 3: 63.4 ms per loop\n"
     ]
    }
   ],
   "source": [
    "%%timeit\n",
    "j = 0\n",
    "for i in range(int(1e6)): \n",
    "    j += i"
   ]
  },
  {
   "cell_type": "markdown",
   "metadata": {
    "slideshow": {
     "slide_type": "subslide"
    }
   },
   "source": [
    "Note that **C** variables are *not* python objects, i. e. they are typed:"
   ]
  },
  {
   "cell_type": "code",
   "execution_count": 36,
   "metadata": {
    "slideshow": {
     "slide_type": "fragment"
    }
   },
   "outputs": [
    {
     "name": "stderr",
     "output_type": "stream",
     "text": [
      "\n",
      "Error compiling Cython file:\n",
      "------------------------------------------------------------\n",
      "...\n",
      "cdef int n\n",
      "n = 10.\n",
      "   ^\n",
      "------------------------------------------------------------\n",
      "\n",
      "/home/g.mancini/.cache/ipython/cython/_cython_magic_ef31c55f21da49e43efda6fd9d4d6f03.pyx:2:4: Cannot assign type 'double' to 'int'\n"
     ]
    }
   ],
   "source": [
    "%%cython\n",
    "cdef int n\n",
    "n = 10."
   ]
  },
  {
   "cell_type": "markdown",
   "metadata": {
    "slideshow": {
     "slide_type": "fragment"
    }
   },
   "source": [
    "raises an error, while"
   ]
  },
  {
   "cell_type": "code",
   "execution_count": 37,
   "metadata": {
    "collapsed": true,
    "slideshow": {
     "slide_type": "fragment"
    }
   },
   "outputs": [],
   "source": [
    "%%cython\n",
    "cdef double d\n",
    "d = 10"
   ]
  },
  {
   "cell_type": "markdown",
   "metadata": {
    "slideshow": {
     "slide_type": "fragment"
    }
   },
   "source": [
    "does an automatic casting"
   ]
  },
  {
   "cell_type": "markdown",
   "metadata": {
    "slideshow": {
     "slide_type": "subslide"
    }
   },
   "source": [
    "### Calculate $\\pi$ (yeah, again)"
   ]
  },
  {
   "cell_type": "markdown",
   "metadata": {
    "slideshow": {
     "slide_type": "subslide"
    }
   },
   "source": [
    "**Pure Python version**"
   ]
  },
  {
   "cell_type": "code",
   "execution_count": 38,
   "metadata": {
    "collapsed": true,
    "slideshow": {
     "slide_type": "fragment"
    }
   },
   "outputs": [],
   "source": [
    "def pi_py(npoints):\n",
    "    step  = 1./npoints\n",
    "    mysum = 0.\n",
    "    for i in range(npoints):\n",
    "        x = (i+0.5)*step\n",
    "        mysum += 4./(x*x + 1.)\n",
    "    return step*mysum"
   ]
  },
  {
   "cell_type": "code",
   "execution_count": 39,
   "metadata": {
    "slideshow": {
     "slide_type": "fragment"
    }
   },
   "outputs": [],
   "source": [
    "%%capture py_out\n",
    "%timeit pi_py(int(1e6))"
   ]
  },
  {
   "cell_type": "markdown",
   "metadata": {
    "slideshow": {
     "slide_type": "subslide"
    }
   },
   "source": [
    "**NumPy version**"
   ]
  },
  {
   "cell_type": "code",
   "execution_count": 40,
   "metadata": {
    "collapsed": true,
    "slideshow": {
     "slide_type": "fragment"
    }
   },
   "outputs": [],
   "source": [
    "def pi_numpy(npoints):\n",
    "    grid = np.linspace(0, 1, num=npoints, endpoint=False)\n",
    "    x    = 4./(1. + grid**2)\n",
    "    return (1./npoints)*np.sum(x)"
   ]
  },
  {
   "cell_type": "code",
   "execution_count": 41,
   "metadata": {
    "slideshow": {
     "slide_type": "fragment"
    }
   },
   "outputs": [],
   "source": [
    "%%capture numpy_out\n",
    "%timeit pi_numpy(int(1e6))"
   ]
  },
  {
   "cell_type": "markdown",
   "metadata": {
    "slideshow": {
     "slide_type": "subslide"
    }
   },
   "source": [
    "**C version**"
   ]
  },
  {
   "cell_type": "code",
   "execution_count": 42,
   "metadata": {
    "slideshow": {
     "slide_type": "fragment"
    }
   },
   "outputs": [
    {
     "name": "stdout",
     "output_type": "stream",
     "text": [
      "Writing pi.c\n"
     ]
    }
   ],
   "source": [
    "%%writefile pi.c\n",
    "#include <stdlib.h>\n",
    "#include <stdio.h>\n",
    "#include <omp.h>\n",
    "int main (int argc, char **argv) {\n",
    "    int num_steps = argv[1] != NULL ? atoi(argv[1]) : 1E6;\n",
    "    int nrun = 10;\n",
    "    double step, x, t0, time = 0., PI = 0.;\n",
    "    step = 1.0/(double) num_steps;\n",
    "    \n",
    "    for(int i = 0; i< nrun; i++)\n",
    "    {\n",
    "        t0 = omp_get_wtime();\n",
    "        for (int j = 0; j < num_steps; j++)\n",
    "        {\n",
    "            x = (j + 0.5) * step;\n",
    "            PI = PI + 4.0/(1.0 + x * x);\n",
    "        }\n",
    "        PI = step * PI;\n",
    "        time += omp_get_wtime() - t0;\n",
    "    }\n",
    "    printf(\"PI, mean time: %f ms\",1000.*(time / (double) num_steps));\n",
    "    return 0;\n",
    "}"
   ]
  },
  {
   "cell_type": "code",
   "execution_count": 43,
   "metadata": {
    "slideshow": {
     "slide_type": "fragment"
    }
   },
   "outputs": [],
   "source": [
    "%%bash\n",
    "source $HOME/Dropbox/Slackware/gcc_vars.sh\n",
    "gcc -Wall -O2 -march=native -mtune=native -msse4.2 pi.c -o pi.exe -fopenmp"
   ]
  },
  {
   "cell_type": "code",
   "execution_count": 44,
   "metadata": {
    "collapsed": true,
    "scrolled": true,
    "slideshow": {
     "slide_type": "subslide"
    }
   },
   "outputs": [],
   "source": [
    "%%capture C_out\n",
    "%%bash\n",
    "source $HOME/Dropbox/Slackware/gcc_vars.sh\n",
    "./pi.exe"
   ]
  },
  {
   "cell_type": "markdown",
   "metadata": {
    "slideshow": {
     "slide_type": "subslide"
    }
   },
   "source": [
    "**Cython version**"
   ]
  },
  {
   "cell_type": "code",
   "execution_count": 47,
   "metadata": {
    "scrolled": false,
    "slideshow": {
     "slide_type": "fragment"
    }
   },
   "outputs": [
    {
     "data": {
      "text/html": [
       "<!DOCTYPE html>\n",
       "<!-- Generated by Cython 0.24 -->\n",
       "<html>\n",
       "<head>\n",
       "    <meta http-equiv=\"Content-Type\" content=\"text/html; charset=utf-8\" />\n",
       "    <title>Cython: _cython_magic_0fa1940b3e53b0ec061700b2bee909e7.pyx</title>\n",
       "    <style type=\"text/css\">\n",
       "    \n",
       "body.cython { font-family: courier; font-size: 12; }\n",
       "\n",
       ".cython.tag  {  }\n",
       ".cython.line { margin: 0em }\n",
       ".cython.code { font-size: 9; color: #444444; display: none; margin: 0px 0px 0px 8px; border-left: 8px none; }\n",
       "\n",
       ".cython.line .run { background-color: #B0FFB0; }\n",
       ".cython.line .mis { background-color: #FFB0B0; }\n",
       ".cython.code.run  { border-left: 8px solid #B0FFB0; }\n",
       ".cython.code.mis  { border-left: 8px solid #FFB0B0; }\n",
       "\n",
       ".cython.code .py_c_api  { color: red; }\n",
       ".cython.code .py_macro_api  { color: #FF7000; }\n",
       ".cython.code .pyx_c_api  { color: #FF3000; }\n",
       ".cython.code .pyx_macro_api  { color: #FF7000; }\n",
       ".cython.code .refnanny  { color: #FFA000; }\n",
       ".cython.code .trace  { color: #FFA000; }\n",
       ".cython.code .error_goto  { color: #FFA000; }\n",
       "\n",
       ".cython.code .coerce  { color: #008000; border: 1px dotted #008000 }\n",
       ".cython.code .py_attr { color: #FF0000; font-weight: bold; }\n",
       ".cython.code .c_attr  { color: #0000FF; }\n",
       ".cython.code .py_call { color: #FF0000; font-weight: bold; }\n",
       ".cython.code .c_call  { color: #0000FF; }\n",
       "\n",
       ".cython.score-0 {background-color: #FFFFff;}\n",
       ".cython.score-1 {background-color: #FFFFe7;}\n",
       ".cython.score-2 {background-color: #FFFFd4;}\n",
       ".cython.score-3 {background-color: #FFFFc4;}\n",
       ".cython.score-4 {background-color: #FFFFb6;}\n",
       ".cython.score-5 {background-color: #FFFFaa;}\n",
       ".cython.score-6 {background-color: #FFFF9f;}\n",
       ".cython.score-7 {background-color: #FFFF96;}\n",
       ".cython.score-8 {background-color: #FFFF8d;}\n",
       ".cython.score-9 {background-color: #FFFF86;}\n",
       ".cython.score-10 {background-color: #FFFF7f;}\n",
       ".cython.score-11 {background-color: #FFFF79;}\n",
       ".cython.score-12 {background-color: #FFFF73;}\n",
       ".cython.score-13 {background-color: #FFFF6e;}\n",
       ".cython.score-14 {background-color: #FFFF6a;}\n",
       ".cython.score-15 {background-color: #FFFF66;}\n",
       ".cython.score-16 {background-color: #FFFF62;}\n",
       ".cython.score-17 {background-color: #FFFF5e;}\n",
       ".cython.score-18 {background-color: #FFFF5b;}\n",
       ".cython.score-19 {background-color: #FFFF57;}\n",
       ".cython.score-20 {background-color: #FFFF55;}\n",
       ".cython.score-21 {background-color: #FFFF52;}\n",
       ".cython.score-22 {background-color: #FFFF4f;}\n",
       ".cython.score-23 {background-color: #FFFF4d;}\n",
       ".cython.score-24 {background-color: #FFFF4b;}\n",
       ".cython.score-25 {background-color: #FFFF48;}\n",
       ".cython.score-26 {background-color: #FFFF46;}\n",
       ".cython.score-27 {background-color: #FFFF44;}\n",
       ".cython.score-28 {background-color: #FFFF43;}\n",
       ".cython.score-29 {background-color: #FFFF41;}\n",
       ".cython.score-30 {background-color: #FFFF3f;}\n",
       ".cython.score-31 {background-color: #FFFF3e;}\n",
       ".cython.score-32 {background-color: #FFFF3c;}\n",
       ".cython.score-33 {background-color: #FFFF3b;}\n",
       ".cython.score-34 {background-color: #FFFF39;}\n",
       ".cython.score-35 {background-color: #FFFF38;}\n",
       ".cython.score-36 {background-color: #FFFF37;}\n",
       ".cython.score-37 {background-color: #FFFF36;}\n",
       ".cython.score-38 {background-color: #FFFF35;}\n",
       ".cython.score-39 {background-color: #FFFF34;}\n",
       ".cython.score-40 {background-color: #FFFF33;}\n",
       ".cython.score-41 {background-color: #FFFF32;}\n",
       ".cython.score-42 {background-color: #FFFF31;}\n",
       ".cython.score-43 {background-color: #FFFF30;}\n",
       ".cython.score-44 {background-color: #FFFF2f;}\n",
       ".cython.score-45 {background-color: #FFFF2e;}\n",
       ".cython.score-46 {background-color: #FFFF2d;}\n",
       ".cython.score-47 {background-color: #FFFF2c;}\n",
       ".cython.score-48 {background-color: #FFFF2b;}\n",
       ".cython.score-49 {background-color: #FFFF2b;}\n",
       ".cython.score-50 {background-color: #FFFF2a;}\n",
       ".cython.score-51 {background-color: #FFFF29;}\n",
       ".cython.score-52 {background-color: #FFFF29;}\n",
       ".cython.score-53 {background-color: #FFFF28;}\n",
       ".cython.score-54 {background-color: #FFFF27;}\n",
       ".cython.score-55 {background-color: #FFFF27;}\n",
       ".cython.score-56 {background-color: #FFFF26;}\n",
       ".cython.score-57 {background-color: #FFFF26;}\n",
       ".cython.score-58 {background-color: #FFFF25;}\n",
       ".cython.score-59 {background-color: #FFFF24;}\n",
       ".cython.score-60 {background-color: #FFFF24;}\n",
       ".cython.score-61 {background-color: #FFFF23;}\n",
       ".cython.score-62 {background-color: #FFFF23;}\n",
       ".cython.score-63 {background-color: #FFFF22;}\n",
       ".cython.score-64 {background-color: #FFFF22;}\n",
       ".cython.score-65 {background-color: #FFFF22;}\n",
       ".cython.score-66 {background-color: #FFFF21;}\n",
       ".cython.score-67 {background-color: #FFFF21;}\n",
       ".cython.score-68 {background-color: #FFFF20;}\n",
       ".cython.score-69 {background-color: #FFFF20;}\n",
       ".cython.score-70 {background-color: #FFFF1f;}\n",
       ".cython.score-71 {background-color: #FFFF1f;}\n",
       ".cython.score-72 {background-color: #FFFF1f;}\n",
       ".cython.score-73 {background-color: #FFFF1e;}\n",
       ".cython.score-74 {background-color: #FFFF1e;}\n",
       ".cython.score-75 {background-color: #FFFF1e;}\n",
       ".cython.score-76 {background-color: #FFFF1d;}\n",
       ".cython.score-77 {background-color: #FFFF1d;}\n",
       ".cython.score-78 {background-color: #FFFF1c;}\n",
       ".cython.score-79 {background-color: #FFFF1c;}\n",
       ".cython.score-80 {background-color: #FFFF1c;}\n",
       ".cython.score-81 {background-color: #FFFF1c;}\n",
       ".cython.score-82 {background-color: #FFFF1b;}\n",
       ".cython.score-83 {background-color: #FFFF1b;}\n",
       ".cython.score-84 {background-color: #FFFF1b;}\n",
       ".cython.score-85 {background-color: #FFFF1a;}\n",
       ".cython.score-86 {background-color: #FFFF1a;}\n",
       ".cython.score-87 {background-color: #FFFF1a;}\n",
       ".cython.score-88 {background-color: #FFFF1a;}\n",
       ".cython.score-89 {background-color: #FFFF19;}\n",
       ".cython.score-90 {background-color: #FFFF19;}\n",
       ".cython.score-91 {background-color: #FFFF19;}\n",
       ".cython.score-92 {background-color: #FFFF19;}\n",
       ".cython.score-93 {background-color: #FFFF18;}\n",
       ".cython.score-94 {background-color: #FFFF18;}\n",
       ".cython.score-95 {background-color: #FFFF18;}\n",
       ".cython.score-96 {background-color: #FFFF18;}\n",
       ".cython.score-97 {background-color: #FFFF17;}\n",
       ".cython.score-98 {background-color: #FFFF17;}\n",
       ".cython.score-99 {background-color: #FFFF17;}\n",
       ".cython.score-100 {background-color: #FFFF17;}\n",
       ".cython.score-101 {background-color: #FFFF16;}\n",
       ".cython.score-102 {background-color: #FFFF16;}\n",
       ".cython.score-103 {background-color: #FFFF16;}\n",
       ".cython.score-104 {background-color: #FFFF16;}\n",
       ".cython.score-105 {background-color: #FFFF16;}\n",
       ".cython.score-106 {background-color: #FFFF15;}\n",
       ".cython.score-107 {background-color: #FFFF15;}\n",
       ".cython.score-108 {background-color: #FFFF15;}\n",
       ".cython.score-109 {background-color: #FFFF15;}\n",
       ".cython.score-110 {background-color: #FFFF15;}\n",
       ".cython.score-111 {background-color: #FFFF15;}\n",
       ".cython.score-112 {background-color: #FFFF14;}\n",
       ".cython.score-113 {background-color: #FFFF14;}\n",
       ".cython.score-114 {background-color: #FFFF14;}\n",
       ".cython.score-115 {background-color: #FFFF14;}\n",
       ".cython.score-116 {background-color: #FFFF14;}\n",
       ".cython.score-117 {background-color: #FFFF14;}\n",
       ".cython.score-118 {background-color: #FFFF13;}\n",
       ".cython.score-119 {background-color: #FFFF13;}\n",
       ".cython.score-120 {background-color: #FFFF13;}\n",
       ".cython.score-121 {background-color: #FFFF13;}\n",
       ".cython.score-122 {background-color: #FFFF13;}\n",
       ".cython.score-123 {background-color: #FFFF13;}\n",
       ".cython.score-124 {background-color: #FFFF13;}\n",
       ".cython.score-125 {background-color: #FFFF12;}\n",
       ".cython.score-126 {background-color: #FFFF12;}\n",
       ".cython.score-127 {background-color: #FFFF12;}\n",
       ".cython.score-128 {background-color: #FFFF12;}\n",
       ".cython.score-129 {background-color: #FFFF12;}\n",
       ".cython.score-130 {background-color: #FFFF12;}\n",
       ".cython.score-131 {background-color: #FFFF12;}\n",
       ".cython.score-132 {background-color: #FFFF11;}\n",
       ".cython.score-133 {background-color: #FFFF11;}\n",
       ".cython.score-134 {background-color: #FFFF11;}\n",
       ".cython.score-135 {background-color: #FFFF11;}\n",
       ".cython.score-136 {background-color: #FFFF11;}\n",
       ".cython.score-137 {background-color: #FFFF11;}\n",
       ".cython.score-138 {background-color: #FFFF11;}\n",
       ".cython.score-139 {background-color: #FFFF11;}\n",
       ".cython.score-140 {background-color: #FFFF11;}\n",
       ".cython.score-141 {background-color: #FFFF10;}\n",
       ".cython.score-142 {background-color: #FFFF10;}\n",
       ".cython.score-143 {background-color: #FFFF10;}\n",
       ".cython.score-144 {background-color: #FFFF10;}\n",
       ".cython.score-145 {background-color: #FFFF10;}\n",
       ".cython.score-146 {background-color: #FFFF10;}\n",
       ".cython.score-147 {background-color: #FFFF10;}\n",
       ".cython.score-148 {background-color: #FFFF10;}\n",
       ".cython.score-149 {background-color: #FFFF10;}\n",
       ".cython.score-150 {background-color: #FFFF0f;}\n",
       ".cython.score-151 {background-color: #FFFF0f;}\n",
       ".cython.score-152 {background-color: #FFFF0f;}\n",
       ".cython.score-153 {background-color: #FFFF0f;}\n",
       ".cython.score-154 {background-color: #FFFF0f;}\n",
       ".cython.score-155 {background-color: #FFFF0f;}\n",
       ".cython.score-156 {background-color: #FFFF0f;}\n",
       ".cython.score-157 {background-color: #FFFF0f;}\n",
       ".cython.score-158 {background-color: #FFFF0f;}\n",
       ".cython.score-159 {background-color: #FFFF0f;}\n",
       ".cython.score-160 {background-color: #FFFF0f;}\n",
       ".cython.score-161 {background-color: #FFFF0e;}\n",
       ".cython.score-162 {background-color: #FFFF0e;}\n",
       ".cython.score-163 {background-color: #FFFF0e;}\n",
       ".cython.score-164 {background-color: #FFFF0e;}\n",
       ".cython.score-165 {background-color: #FFFF0e;}\n",
       ".cython.score-166 {background-color: #FFFF0e;}\n",
       ".cython.score-167 {background-color: #FFFF0e;}\n",
       ".cython.score-168 {background-color: #FFFF0e;}\n",
       ".cython.score-169 {background-color: #FFFF0e;}\n",
       ".cython.score-170 {background-color: #FFFF0e;}\n",
       ".cython.score-171 {background-color: #FFFF0e;}\n",
       ".cython.score-172 {background-color: #FFFF0e;}\n",
       ".cython.score-173 {background-color: #FFFF0d;}\n",
       ".cython.score-174 {background-color: #FFFF0d;}\n",
       ".cython.score-175 {background-color: #FFFF0d;}\n",
       ".cython.score-176 {background-color: #FFFF0d;}\n",
       ".cython.score-177 {background-color: #FFFF0d;}\n",
       ".cython.score-178 {background-color: #FFFF0d;}\n",
       ".cython.score-179 {background-color: #FFFF0d;}\n",
       ".cython.score-180 {background-color: #FFFF0d;}\n",
       ".cython.score-181 {background-color: #FFFF0d;}\n",
       ".cython.score-182 {background-color: #FFFF0d;}\n",
       ".cython.score-183 {background-color: #FFFF0d;}\n",
       ".cython.score-184 {background-color: #FFFF0d;}\n",
       ".cython.score-185 {background-color: #FFFF0d;}\n",
       ".cython.score-186 {background-color: #FFFF0d;}\n",
       ".cython.score-187 {background-color: #FFFF0c;}\n",
       ".cython.score-188 {background-color: #FFFF0c;}\n",
       ".cython.score-189 {background-color: #FFFF0c;}\n",
       ".cython.score-190 {background-color: #FFFF0c;}\n",
       ".cython.score-191 {background-color: #FFFF0c;}\n",
       ".cython.score-192 {background-color: #FFFF0c;}\n",
       ".cython.score-193 {background-color: #FFFF0c;}\n",
       ".cython.score-194 {background-color: #FFFF0c;}\n",
       ".cython.score-195 {background-color: #FFFF0c;}\n",
       ".cython.score-196 {background-color: #FFFF0c;}\n",
       ".cython.score-197 {background-color: #FFFF0c;}\n",
       ".cython.score-198 {background-color: #FFFF0c;}\n",
       ".cython.score-199 {background-color: #FFFF0c;}\n",
       ".cython.score-200 {background-color: #FFFF0c;}\n",
       ".cython.score-201 {background-color: #FFFF0c;}\n",
       ".cython.score-202 {background-color: #FFFF0c;}\n",
       ".cython.score-203 {background-color: #FFFF0b;}\n",
       ".cython.score-204 {background-color: #FFFF0b;}\n",
       ".cython.score-205 {background-color: #FFFF0b;}\n",
       ".cython.score-206 {background-color: #FFFF0b;}\n",
       ".cython.score-207 {background-color: #FFFF0b;}\n",
       ".cython.score-208 {background-color: #FFFF0b;}\n",
       ".cython.score-209 {background-color: #FFFF0b;}\n",
       ".cython.score-210 {background-color: #FFFF0b;}\n",
       ".cython.score-211 {background-color: #FFFF0b;}\n",
       ".cython.score-212 {background-color: #FFFF0b;}\n",
       ".cython.score-213 {background-color: #FFFF0b;}\n",
       ".cython.score-214 {background-color: #FFFF0b;}\n",
       ".cython.score-215 {background-color: #FFFF0b;}\n",
       ".cython.score-216 {background-color: #FFFF0b;}\n",
       ".cython.score-217 {background-color: #FFFF0b;}\n",
       ".cython.score-218 {background-color: #FFFF0b;}\n",
       ".cython.score-219 {background-color: #FFFF0b;}\n",
       ".cython.score-220 {background-color: #FFFF0b;}\n",
       ".cython.score-221 {background-color: #FFFF0b;}\n",
       ".cython.score-222 {background-color: #FFFF0a;}\n",
       ".cython.score-223 {background-color: #FFFF0a;}\n",
       ".cython.score-224 {background-color: #FFFF0a;}\n",
       ".cython.score-225 {background-color: #FFFF0a;}\n",
       ".cython.score-226 {background-color: #FFFF0a;}\n",
       ".cython.score-227 {background-color: #FFFF0a;}\n",
       ".cython.score-228 {background-color: #FFFF0a;}\n",
       ".cython.score-229 {background-color: #FFFF0a;}\n",
       ".cython.score-230 {background-color: #FFFF0a;}\n",
       ".cython.score-231 {background-color: #FFFF0a;}\n",
       ".cython.score-232 {background-color: #FFFF0a;}\n",
       ".cython.score-233 {background-color: #FFFF0a;}\n",
       ".cython.score-234 {background-color: #FFFF0a;}\n",
       ".cython.score-235 {background-color: #FFFF0a;}\n",
       ".cython.score-236 {background-color: #FFFF0a;}\n",
       ".cython.score-237 {background-color: #FFFF0a;}\n",
       ".cython.score-238 {background-color: #FFFF0a;}\n",
       ".cython.score-239 {background-color: #FFFF0a;}\n",
       ".cython.score-240 {background-color: #FFFF0a;}\n",
       ".cython.score-241 {background-color: #FFFF0a;}\n",
       ".cython.score-242 {background-color: #FFFF0a;}\n",
       ".cython.score-243 {background-color: #FFFF0a;}\n",
       ".cython.score-244 {background-color: #FFFF0a;}\n",
       ".cython.score-245 {background-color: #FFFF0a;}\n",
       ".cython.score-246 {background-color: #FFFF09;}\n",
       ".cython.score-247 {background-color: #FFFF09;}\n",
       ".cython.score-248 {background-color: #FFFF09;}\n",
       ".cython.score-249 {background-color: #FFFF09;}\n",
       ".cython.score-250 {background-color: #FFFF09;}\n",
       ".cython.score-251 {background-color: #FFFF09;}\n",
       ".cython.score-252 {background-color: #FFFF09;}\n",
       ".cython.score-253 {background-color: #FFFF09;}\n",
       ".cython.score-254 {background-color: #FFFF09;}\n",
       ".cython .hll { background-color: #ffffcc }\n",
       ".cython  { background: #f8f8f8; }\n",
       ".cython .c { color: #408080; font-style: italic } /* Comment */\n",
       ".cython .err { border: 1px solid #FF0000 } /* Error */\n",
       ".cython .k { color: #008000; font-weight: bold } /* Keyword */\n",
       ".cython .o { color: #666666 } /* Operator */\n",
       ".cython .ch { color: #408080; font-style: italic } /* Comment.Hashbang */\n",
       ".cython .cm { color: #408080; font-style: italic } /* Comment.Multiline */\n",
       ".cython .cp { color: #BC7A00 } /* Comment.Preproc */\n",
       ".cython .cpf { color: #408080; font-style: italic } /* Comment.PreprocFile */\n",
       ".cython .c1 { color: #408080; font-style: italic } /* Comment.Single */\n",
       ".cython .cs { color: #408080; font-style: italic } /* Comment.Special */\n",
       ".cython .gd { color: #A00000 } /* Generic.Deleted */\n",
       ".cython .ge { font-style: italic } /* Generic.Emph */\n",
       ".cython .gr { color: #FF0000 } /* Generic.Error */\n",
       ".cython .gh { color: #000080; font-weight: bold } /* Generic.Heading */\n",
       ".cython .gi { color: #00A000 } /* Generic.Inserted */\n",
       ".cython .go { color: #888888 } /* Generic.Output */\n",
       ".cython .gp { color: #000080; font-weight: bold } /* Generic.Prompt */\n",
       ".cython .gs { font-weight: bold } /* Generic.Strong */\n",
       ".cython .gu { color: #800080; font-weight: bold } /* Generic.Subheading */\n",
       ".cython .gt { color: #0044DD } /* Generic.Traceback */\n",
       ".cython .kc { color: #008000; font-weight: bold } /* Keyword.Constant */\n",
       ".cython .kd { color: #008000; font-weight: bold } /* Keyword.Declaration */\n",
       ".cython .kn { color: #008000; font-weight: bold } /* Keyword.Namespace */\n",
       ".cython .kp { color: #008000 } /* Keyword.Pseudo */\n",
       ".cython .kr { color: #008000; font-weight: bold } /* Keyword.Reserved */\n",
       ".cython .kt { color: #B00040 } /* Keyword.Type */\n",
       ".cython .m { color: #666666 } /* Literal.Number */\n",
       ".cython .s { color: #BA2121 } /* Literal.String */\n",
       ".cython .na { color: #7D9029 } /* Name.Attribute */\n",
       ".cython .nb { color: #008000 } /* Name.Builtin */\n",
       ".cython .nc { color: #0000FF; font-weight: bold } /* Name.Class */\n",
       ".cython .no { color: #880000 } /* Name.Constant */\n",
       ".cython .nd { color: #AA22FF } /* Name.Decorator */\n",
       ".cython .ni { color: #999999; font-weight: bold } /* Name.Entity */\n",
       ".cython .ne { color: #D2413A; font-weight: bold } /* Name.Exception */\n",
       ".cython .nf { color: #0000FF } /* Name.Function */\n",
       ".cython .nl { color: #A0A000 } /* Name.Label */\n",
       ".cython .nn { color: #0000FF; font-weight: bold } /* Name.Namespace */\n",
       ".cython .nt { color: #008000; font-weight: bold } /* Name.Tag */\n",
       ".cython .nv { color: #19177C } /* Name.Variable */\n",
       ".cython .ow { color: #AA22FF; font-weight: bold } /* Operator.Word */\n",
       ".cython .w { color: #bbbbbb } /* Text.Whitespace */\n",
       ".cython .mb { color: #666666 } /* Literal.Number.Bin */\n",
       ".cython .mf { color: #666666 } /* Literal.Number.Float */\n",
       ".cython .mh { color: #666666 } /* Literal.Number.Hex */\n",
       ".cython .mi { color: #666666 } /* Literal.Number.Integer */\n",
       ".cython .mo { color: #666666 } /* Literal.Number.Oct */\n",
       ".cython .sa { color: #BA2121 } /* Literal.String.Affix */\n",
       ".cython .sb { color: #BA2121 } /* Literal.String.Backtick */\n",
       ".cython .sc { color: #BA2121 } /* Literal.String.Char */\n",
       ".cython .dl { color: #BA2121 } /* Literal.String.Delimiter */\n",
       ".cython .sd { color: #BA2121; font-style: italic } /* Literal.String.Doc */\n",
       ".cython .s2 { color: #BA2121 } /* Literal.String.Double */\n",
       ".cython .se { color: #BB6622; font-weight: bold } /* Literal.String.Escape */\n",
       ".cython .sh { color: #BA2121 } /* Literal.String.Heredoc */\n",
       ".cython .si { color: #BB6688; font-weight: bold } /* Literal.String.Interpol */\n",
       ".cython .sx { color: #008000 } /* Literal.String.Other */\n",
       ".cython .sr { color: #BB6688 } /* Literal.String.Regex */\n",
       ".cython .s1 { color: #BA2121 } /* Literal.String.Single */\n",
       ".cython .ss { color: #19177C } /* Literal.String.Symbol */\n",
       ".cython .bp { color: #008000 } /* Name.Builtin.Pseudo */\n",
       ".cython .fm { color: #0000FF } /* Name.Function.Magic */\n",
       ".cython .vc { color: #19177C } /* Name.Variable.Class */\n",
       ".cython .vg { color: #19177C } /* Name.Variable.Global */\n",
       ".cython .vi { color: #19177C } /* Name.Variable.Instance */\n",
       ".cython .vm { color: #19177C } /* Name.Variable.Magic */\n",
       ".cython .il { color: #666666 } /* Literal.Number.Integer.Long */\n",
       "    </style>\n",
       "    <script>\n",
       "    function toggleDiv(id) {\n",
       "        theDiv = id.nextElementSibling\n",
       "        if (theDiv.style.display != 'block') theDiv.style.display = 'block';\n",
       "        else theDiv.style.display = 'none';\n",
       "    }\n",
       "    </script>\n",
       "</head>\n",
       "<body class=\"cython\">\n",
       "<p><span style=\"border-bottom: solid 1px grey;\">Generated by Cython 0.24</span></p>\n",
       "<p>\n",
       "    <span style=\"background-color: #FFFF00\">Yellow lines</span> hint at Python interaction.<br />\n",
       "    Click on a line that starts with a \"<code>+</code>\" to see the C code that Cython generated for it.\n",
       "</p>\n",
       "<div class=\"cython\"><pre class=\"cython line score-23\" onclick='toggleDiv(this)'>+<span class=\"\">1</span>: <span class=\"k\">def</span> <span class=\"nf\">pi_cy</span><span class=\"p\">(</span><span class=\"nb\">int</span> <span class=\"n\">npoints</span><span class=\"p\">):</span></pre>\n",
       "<pre class='cython code score-23 '>/* Python wrapper */\n",
       "static PyObject *__pyx_pw_46_cython_magic_0fa1940b3e53b0ec061700b2bee909e7_1pi_cy(PyObject *__pyx_self, PyObject *__pyx_arg_npoints); /*proto*/\n",
       "static PyMethodDef __pyx_mdef_46_cython_magic_0fa1940b3e53b0ec061700b2bee909e7_1pi_cy = {\"pi_cy\", (PyCFunction)__pyx_pw_46_cython_magic_0fa1940b3e53b0ec061700b2bee909e7_1pi_cy, METH_O, 0};\n",
       "static PyObject *__pyx_pw_46_cython_magic_0fa1940b3e53b0ec061700b2bee909e7_1pi_cy(PyObject *__pyx_self, PyObject *__pyx_arg_npoints) {\n",
       "  int __pyx_v_npoints;\n",
       "  PyObject *__pyx_r = 0;\n",
       "  <span class='refnanny'>__Pyx_RefNannyDeclarations</span>\n",
       "  <span class='refnanny'>__Pyx_RefNannySetupContext</span>(\"pi_cy (wrapper)\", 0);\n",
       "  assert(__pyx_arg_npoints); {\n",
       "    __pyx_v_npoints = <span class='pyx_c_api'>__Pyx_PyInt_As_int</span>(__pyx_arg_npoints); if (unlikely((__pyx_v_npoints == (int)-1) &amp;&amp; <span class='py_c_api'>PyErr_Occurred</span>())) __PYX_ERR(0, 1, __pyx_L3_error)\n",
       "  }\n",
       "  goto __pyx_L4_argument_unpacking_done;\n",
       "  __pyx_L3_error:;\n",
       "  <span class='pyx_c_api'>__Pyx_AddTraceback</span>(\"_cython_magic_0fa1940b3e53b0ec061700b2bee909e7.pi_cy\", __pyx_clineno, __pyx_lineno, __pyx_filename);\n",
       "  <span class='refnanny'>__Pyx_RefNannyFinishContext</span>();\n",
       "  return NULL;\n",
       "  __pyx_L4_argument_unpacking_done:;\n",
       "  __pyx_r = __pyx_pf_46_cython_magic_0fa1940b3e53b0ec061700b2bee909e7_pi_cy(__pyx_self, ((int)__pyx_v_npoints));\n",
       "\n",
       "  /* function exit code */\n",
       "  <span class='refnanny'>__Pyx_RefNannyFinishContext</span>();\n",
       "  return __pyx_r;\n",
       "}\n",
       "\n",
       "static PyObject *__pyx_pf_46_cython_magic_0fa1940b3e53b0ec061700b2bee909e7_pi_cy(CYTHON_UNUSED PyObject *__pyx_self, int __pyx_v_npoints) {\n",
       "  double __pyx_v_x;\n",
       "  double __pyx_v_step;\n",
       "  double __pyx_v_PI;\n",
       "  int __pyx_v_i;\n",
       "  PyObject *__pyx_r = NULL;\n",
       "  <span class='refnanny'>__Pyx_RefNannyDeclarations</span>\n",
       "  <span class='refnanny'>__Pyx_RefNannySetupContext</span>(\"pi_cy\", 0);\n",
       "/* … */\n",
       "  /* function exit code */\n",
       "  __pyx_L1_error:;\n",
       "  <span class='pyx_macro_api'>__Pyx_XDECREF</span>(__pyx_t_4);\n",
       "  <span class='pyx_c_api'>__Pyx_AddTraceback</span>(\"_cython_magic_0fa1940b3e53b0ec061700b2bee909e7.pi_cy\", __pyx_clineno, __pyx_lineno, __pyx_filename);\n",
       "  __pyx_r = NULL;\n",
       "  __pyx_L0:;\n",
       "  <span class='refnanny'>__Pyx_XGIVEREF</span>(__pyx_r);\n",
       "  <span class='refnanny'>__Pyx_RefNannyFinishContext</span>();\n",
       "  return __pyx_r;\n",
       "}\n",
       "/* … */\n",
       "  __pyx_tuple_ = <span class='py_c_api'>PyTuple_Pack</span>(6, __pyx_n_s_npoints, __pyx_n_s_npoints, __pyx_n_s_x, __pyx_n_s_step, __pyx_n_s_PI, __pyx_n_s_i); if (unlikely(!__pyx_tuple_)) __PYX_ERR(0, 1, __pyx_L1_error)\n",
       "  <span class='refnanny'>__Pyx_GOTREF</span>(__pyx_tuple_);\n",
       "  <span class='refnanny'>__Pyx_GIVEREF</span>(__pyx_tuple_);\n",
       "/* … */\n",
       "  __pyx_t_1 = PyCFunction_NewEx(&amp;__pyx_mdef_46_cython_magic_0fa1940b3e53b0ec061700b2bee909e7_1pi_cy, NULL, __pyx_n_s_cython_magic_0fa1940b3e53b0ec06); if (unlikely(!__pyx_t_1)) __PYX_ERR(0, 1, __pyx_L1_error)\n",
       "  <span class='refnanny'>__Pyx_GOTREF</span>(__pyx_t_1);\n",
       "  if (<span class='py_c_api'>PyDict_SetItem</span>(__pyx_d, __pyx_n_s_pi_cy, __pyx_t_1) &lt; 0) __PYX_ERR(0, 1, __pyx_L1_error)\n",
       "  <span class='pyx_macro_api'>__Pyx_DECREF</span>(__pyx_t_1); __pyx_t_1 = 0;\n",
       "</pre><pre class=\"cython line score-0\">&#xA0;<span class=\"\">2</span>:     <span class=\"c\">#everything down here is a C variable</span></pre>\n",
       "<pre class=\"cython line score-5\" onclick='toggleDiv(this)'>+<span class=\"\">3</span>:     <span class=\"k\">cdef</span> <span class=\"kt\">double</span> <span class=\"nf\">x</span><span class=\"p\">,</span> <span class=\"nf\">step</span> <span class=\"o\">=</span> <span class=\"mf\">1.</span><span class=\"o\">/</span><span class=\"p\">(&lt;</span><span class=\"kt\">int</span><span class=\"p\">&gt;</span> <span class=\"n\">npoints</span><span class=\"p\">),</span> <span class=\"n\">PI</span> <span class=\"o\">=</span> <span class=\"mf\">0.</span></pre>\n",
       "<pre class='cython code score-5 '>  if (unlikely(((int)__pyx_v_npoints) == 0)) {\n",
       "    <span class='py_c_api'>PyErr_SetString</span>(PyExc_ZeroDivisionError, \"float division\");\n",
       "    __PYX_ERR(0, 3, __pyx_L1_error)\n",
       "  }\n",
       "  __pyx_v_step = (1. / ((int)__pyx_v_npoints));\n",
       "  __pyx_v_PI = 0.;\n",
       "</pre><pre class=\"cython line score-0\" onclick='toggleDiv(this)'>+<span class=\"\">4</span>:     <span class=\"k\">cdef</span> <span class=\"kt\">int</span> <span class=\"nf\">i</span> <span class=\"o\">=</span> <span class=\"mf\">0</span></pre>\n",
       "<pre class='cython code score-0 '>  __pyx_v_i = 0;\n",
       "</pre><pre class=\"cython line score-0\" onclick='toggleDiv(this)'>+<span class=\"\">5</span>:     <span class=\"k\">for</span> <span class=\"n\">i</span> <span class=\"ow\">in</span> <span class=\"nb\">range</span><span class=\"p\">(</span><span class=\"n\">npoints</span><span class=\"p\">):</span></pre>\n",
       "<pre class='cython code score-0 '>  __pyx_t_1 = __pyx_v_npoints;\n",
       "  for (__pyx_t_2 = 0; __pyx_t_2 &lt; __pyx_t_1; __pyx_t_2+=1) {\n",
       "    __pyx_v_i = __pyx_t_2;\n",
       "</pre><pre class=\"cython line score-0\" onclick='toggleDiv(this)'>+<span class=\"\">6</span>:         <span class=\"n\">x</span> <span class=\"o\">=</span> <span class=\"p\">(</span><span class=\"n\">i</span> <span class=\"o\">+</span> <span class=\"mf\">0.5</span><span class=\"p\">)</span> <span class=\"o\">*</span> <span class=\"n\">step</span></pre>\n",
       "<pre class='cython code score-0 '>    __pyx_v_x = ((__pyx_v_i + 0.5) * __pyx_v_step);\n",
       "</pre><pre class=\"cython line score-5\" onclick='toggleDiv(this)'>+<span class=\"\">7</span>:         <span class=\"n\">PI</span> <span class=\"o\">+=</span> <span class=\"mf\">1.</span><span class=\"o\">/</span> <span class=\"p\">(</span><span class=\"mf\">1.</span> <span class=\"o\">+</span> <span class=\"n\">x</span><span class=\"o\">*</span><span class=\"n\">x</span><span class=\"p\">)</span></pre>\n",
       "<pre class='cython code score-5 '>    __pyx_t_3 = (1. + (__pyx_v_x * __pyx_v_x));\n",
       "    if (unlikely(__pyx_t_3 == 0)) {\n",
       "      <span class='py_c_api'>PyErr_SetString</span>(PyExc_ZeroDivisionError, \"float division\");\n",
       "      __PYX_ERR(0, 7, __pyx_L1_error)\n",
       "    }\n",
       "    __pyx_v_PI = (__pyx_v_PI + (1. / __pyx_t_3));\n",
       "  }\n",
       "</pre><pre class=\"cython line score-6\" onclick='toggleDiv(this)'>+<span class=\"\">8</span>:     <span class=\"k\">return</span> <span class=\"mf\">4.</span> <span class=\"o\">*</span> <span class=\"n\">PI</span> <span class=\"o\">*</span> <span class=\"n\">step</span></pre>\n",
       "<pre class='cython code score-6 '>  <span class='pyx_macro_api'>__Pyx_XDECREF</span>(__pyx_r);\n",
       "  __pyx_t_4 = <span class='py_c_api'>PyFloat_FromDouble</span>(((4. * __pyx_v_PI) * __pyx_v_step)); if (unlikely(!__pyx_t_4)) __PYX_ERR(0, 8, __pyx_L1_error)\n",
       "  <span class='refnanny'>__Pyx_GOTREF</span>(__pyx_t_4);\n",
       "  __pyx_r = __pyx_t_4;\n",
       "  __pyx_t_4 = 0;\n",
       "  goto __pyx_L0;\n",
       "</pre></div></body></html>"
      ],
      "text/plain": [
       "<IPython.core.display.HTML object>"
      ]
     },
     "execution_count": 47,
     "metadata": {},
     "output_type": "execute_result"
    }
   ],
   "source": [
    "%%cython -a\n",
    "def pi_cy(int npoints):\n",
    "    #everything down here is a C variable\n",
    "    cdef double x, step = 1./(<int> npoints), PI = 0.\n",
    "    cdef int i = 0\n",
    "    for i in range(npoints):\n",
    "        x = (i + 0.5) * step\n",
    "        PI += 1./ (1. + x*x)\n",
    "    return 4. * PI * step"
   ]
  },
  {
   "cell_type": "markdown",
   "metadata": {
    "slideshow": {
     "slide_type": "fragment"
    }
   },
   "source": [
    "Invoking Cython (had we built a module using *python setup.py ...*) generates about 1000 lines of C code which is then compiled and used when running cpi.cpi(). I.e. Cython has generate a **valid C code** which exposes itself to Python and is not so bad compared to C."
   ]
  },
  {
   "cell_type": "code",
   "execution_count": 48,
   "metadata": {},
   "outputs": [
    {
     "data": {
      "text/plain": [
       "3.1415926535897643"
      ]
     },
     "execution_count": 48,
     "metadata": {},
     "output_type": "execute_result"
    }
   ],
   "source": [
    "pi_cy(int(1e6))"
   ]
  },
  {
   "cell_type": "code",
   "execution_count": 49,
   "metadata": {
    "slideshow": {
     "slide_type": "fragment"
    }
   },
   "outputs": [],
   "source": [
    "%%capture cy_out\n",
    "%%timeit\n",
    "pi_cy(int(1e6))"
   ]
  },
  {
   "cell_type": "code",
   "execution_count": 50,
   "metadata": {},
   "outputs": [
    {
     "data": {
      "text/plain": [
       "'100 loops, best of 3: 6.9 ms per loop\\n'"
      ]
     },
     "execution_count": 50,
     "metadata": {},
     "output_type": "execute_result"
    }
   ],
   "source": [
    "cy_out.stdout"
   ]
  },
  {
   "cell_type": "code",
   "execution_count": 51,
   "metadata": {
    "slideshow": {
     "slide_type": "fragment"
    }
   },
   "outputs": [
    {
     "data": {
      "text/plain": [
       "Text(0,0.5,'Elapsed time (ms)')"
      ]
     },
     "execution_count": 51,
     "metadata": {},
     "output_type": "execute_result"
    },
    {
     "data": {
      "image/png": "[encoded data removed]",
      "text/plain": [
       "<matplotlib.figure.Figure at 0x7f2aa452f278>"
      ]
     },
     "metadata": {},
     "output_type": "display_data"
    }
   ],
   "source": [
    "pat = r'(.*):\\s(.*)\\sms'\n",
    "times = [ search(pat, i.stdout).group(2) for i in (py_out, numpy_out, C_out, cy_out)]\n",
    "times = list(map(float,times))\n",
    "scale = 200\n",
    "colour = (\"k\",\"b\",\"r\",\"g\",\"m\")\n",
    "for point,method in enumerate((\"Pure Python\",\"Numpy\",\"C\",\"Cython\")):\n",
    "    plt.scatter(point+1,times[point],label=method,c=colour[point],s=scale,edgecolor=None,alpha=0.3)\n",
    "plt.legend()\n",
    "plt.ylabel(\"Elapsed time (ms)\")"
   ]
  },
  {
   "cell_type": "markdown",
   "metadata": {
    "slideshow": {
     "slide_type": "fragment"
    }
   },
   "source": [
    "Which seems to imply that *if **i** is declared as a cdef integer type, it will optimise this into a pure C loop.*  "
   ]
  },
  {
   "cell_type": "markdown",
   "metadata": {
    "slideshow": {
     "slide_type": "subslide"
    }
   },
   "source": [
    "To sum up, just using **%%cython** and **cdef** yields performance an order of magnitude less than C, but we have Numpy not pure Python.  \n",
    "It is foreseeable that often we will pass numpy arrays to Cython functions.  \n",
    "It is possible to use Numpy arrays and Cython?"
   ]
  },
  {
   "cell_type": "markdown",
   "metadata": {
    "slideshow": {
     "slide_type": "subslide"
    }
   },
   "source": [
    "### Integration with Monte Carlo"
   ]
  },
  {
   "cell_type": "markdown",
   "metadata": {
    "slideshow": {
     "slide_type": "fragment"
    }
   },
   "source": [
    "A common example of MC integration is to compute $\\pi$ by sampling random numbers as x and y coordinates, and counting how many of them were in the unit circle. The basic idea is that the ratio of the area of the unit circle to the square that inscribes it is $\\pi/4$, so by counting the fraction of the random points in the square that are inside the circle, we may estimate $\\pi$. "
   ]
  },
  {
   "cell_type": "code",
   "execution_count": 52,
   "metadata": {
    "slideshow": {
     "slide_type": "fragment"
    }
   },
   "outputs": [
    {
     "name": "stdout",
     "output_type": "stream",
     "text": [
      "# of points inside  (15694,)\n"
     ]
    }
   ],
   "source": [
    "npoints = 20000\n",
    "#unit circle centered in .0, .0\n",
    "x = 2.*np.random.rand(npoints)-1\n",
    "y = 2.*np.random.rand(npoints)-1\n",
    "r = x**2+y**2\n",
    "# fancy indexing\n",
    "inside = r[r<1.]\n",
    "print(\"# of points inside \",inside.shape)"
   ]
  },
  {
   "cell_type": "code",
   "execution_count": 53,
   "metadata": {
    "slideshow": {
     "slide_type": "fragment"
    }
   },
   "outputs": [
    {
     "data": {
      "text/plain": [
       "<matplotlib.collections.PathCollection at 0x7f2aa426a748>"
      ]
     },
     "execution_count": 53,
     "metadata": {},
     "output_type": "execute_result"
    },
    {
     "data": {
      "image/png": "[encoded data removed]",
      "text/plain": [
       "<matplotlib.figure.Figure at 0x7f2aa4526a58>"
      ]
     },
     "metadata": {},
     "output_type": "display_data"
    }
   ],
   "source": [
    "plt.figure(figsize=(10,10))\n",
    "plt.title(\"Estimating $\\pi$ with MC\")\n",
    "plt.scatter(x[r<1],y[r<1],marker='h',s=10,color='r')\n",
    "plt.scatter(x[r>1],y[r>1],marker='s',s=5,color='b',alpha=0.5)"
   ]
  },
  {
   "cell_type": "markdown",
   "metadata": {
    "slideshow": {
     "slide_type": "subslide"
    }
   },
   "source": [
    "### Numpy arrays and memoryviews\n",
    "\n",
    "Try MC integration and compare Cython and Numpy versions (we assume Pure Python is slower).  "
   ]
  },
  {
   "cell_type": "markdown",
   "metadata": {
    "slideshow": {
     "slide_type": "fragment"
    }
   },
   "source": [
    "**Numpy**"
   ]
  },
  {
   "cell_type": "code",
   "execution_count": 33,
   "metadata": {
    "slideshow": {
     "slide_type": "fragment"
    }
   },
   "outputs": [],
   "source": [
    "def mc_numpy(npoints):   \n",
    "    x = 2.*np.random.rand(npoints)-1.\n",
    "    y = 2.*np.random.rand(npoints)-1.\n",
    "    r = x*x + y*y\n",
    "    r = r[ r<=1.]\n",
    "    inside = r.shape[0]\n",
    "    return 4.0 * inside / npoints"
   ]
  },
  {
   "cell_type": "code",
   "execution_count": 68,
   "metadata": {
    "slideshow": {
     "slide_type": "fragment"
    }
   },
   "outputs": [
    {
     "data": {
      "text/plain": [
       "3.141184"
      ]
     },
     "execution_count": 68,
     "metadata": {},
     "output_type": "execute_result"
    }
   ],
   "source": [
    "mc_numpy(int(1e7))"
   ]
  },
  {
   "cell_type": "code",
   "execution_count": 69,
   "metadata": {
    "slideshow": {
     "slide_type": "fragment"
    }
   },
   "outputs": [],
   "source": [
    "%%capture mc_np\n",
    "%%timeit\n",
    "mc_numpy(int(1e7))"
   ]
  },
  {
   "cell_type": "code",
   "execution_count": 70,
   "metadata": {
    "slideshow": {
     "slide_type": "fragment"
    }
   },
   "outputs": [
    {
     "data": {
      "text/plain": [
       "'382 ms +- 2.6 ms per loop (mean +- std. dev. of 7 runs, 1 loop each)\\n'"
      ]
     },
     "execution_count": 70,
     "metadata": {},
     "output_type": "execute_result"
    }
   ],
   "source": [
    "mc_np.stdout"
   ]
  },
  {
   "cell_type": "markdown",
   "metadata": {
    "slideshow": {
     "slide_type": "subslide"
    }
   },
   "source": [
    "**Cython** using only C scalars"
   ]
  },
  {
   "cell_type": "code",
   "execution_count": 36,
   "metadata": {
    "slideshow": {
     "slide_type": "fragment"
    }
   },
   "outputs": [],
   "source": [
    "%%cython\n",
    "import numpy as np\n",
    "def mc_cy_1(int npoints):\n",
    "    cdef double x, y, inside = 0. \n",
    "    cdef int i\n",
    "    for i in range(npoints):\n",
    "        x = 2. * np.random.random() - 1.\n",
    "        y = 2. * np.random.random() - 1.\n",
    "        if x*x + y*y <= 1.:\n",
    "            inside += 1\n",
    "    return 4.0 * (inside / <double> npoints)"
   ]
  },
  {
   "cell_type": "code",
   "execution_count": 50,
   "metadata": {
    "slideshow": {
     "slide_type": "fragment"
    }
   },
   "outputs": [
    {
     "data": {
      "text/plain": [
       "3.1417376"
      ]
     },
     "execution_count": 50,
     "metadata": {},
     "output_type": "execute_result"
    }
   ],
   "source": [
    "mc_cy_1(int(1e7))"
   ]
  },
  {
   "cell_type": "code",
   "execution_count": 51,
   "metadata": {
    "slideshow": {
     "slide_type": "fragment"
    }
   },
   "outputs": [],
   "source": [
    "%%capture cy1\n",
    "%%timeit \n",
    "mc_cy_1(int(1e7))"
   ]
  },
  {
   "cell_type": "code",
   "execution_count": 52,
   "metadata": {
    "slideshow": {
     "slide_type": "fragment"
    }
   },
   "outputs": [
    {
     "data": {
      "text/plain": [
       "'6.18 s +- 192 ms per loop (mean +- std. dev. of 7 runs, 1 loop each)\\n'"
      ]
     },
     "execution_count": 52,
     "metadata": {},
     "output_type": "execute_result"
    }
   ],
   "source": [
    "cy1.stdout"
   ]
  },
  {
   "cell_type": "markdown",
   "metadata": {
    "slideshow": {
     "slide_type": "subslide"
    }
   },
   "source": [
    "**Cython** using numpy arrays for x and y"
   ]
  },
  {
   "cell_type": "code",
   "execution_count": 15,
   "metadata": {
    "slideshow": {
     "slide_type": "fragment"
    }
   },
   "outputs": [],
   "source": [
    "%%cython\n",
    "import numpy as np\n",
    "def mc_cy_2(int npoints):\n",
    "    cdef double inside = 0. \n",
    "    cdef int i\n",
    "    #x and y are Numpy arrays\n",
    "    x = 2.*np.random.rand(npoints)-1.\n",
    "    y = 2.*np.random.rand(npoints)-1.\n",
    "    for i in range(npoints):\n",
    "        if x[i]*x[i] + y[i]*y[i] <= 1.:\n",
    "            inside += 1\n",
    "    \n",
    "    return 4.0*inside / <double> npoints"
   ]
  },
  {
   "cell_type": "code",
   "execution_count": 16,
   "metadata": {
    "slideshow": {
     "slide_type": "fragment"
    }
   },
   "outputs": [
    {
     "data": {
      "text/plain": [
       "3.141052"
      ]
     },
     "execution_count": 16,
     "metadata": {},
     "output_type": "execute_result"
    }
   ],
   "source": [
    "mc_cy_2(int(1e7))"
   ]
  },
  {
   "cell_type": "code",
   "execution_count": 17,
   "metadata": {
    "slideshow": {
     "slide_type": "fragment"
    }
   },
   "outputs": [],
   "source": [
    "%%capture cy2\n",
    "%%timeit \n",
    "mc_cy_2(int(1e7))"
   ]
  },
  {
   "cell_type": "code",
   "execution_count": 18,
   "metadata": {
    "slideshow": {
     "slide_type": "fragment"
    }
   },
   "outputs": [
    {
     "data": {
      "text/plain": [
       "'3.44 s +- 297 ms per loop (mean +- std. dev. of 7 runs, 1 loop each)\\n'"
      ]
     },
     "execution_count": 18,
     "metadata": {},
     "output_type": "execute_result"
    }
   ],
   "source": [
    "cy2.stdout"
   ]
  },
  {
   "cell_type": "code",
   "execution_count": 71,
   "metadata": {
    "slideshow": {
     "slide_type": "subslide"
    }
   },
   "outputs": [
    {
     "data": {
      "text/plain": [
       "Text(0,0.5,'Elapsed time (ms)')"
      ]
     },
     "execution_count": 71,
     "metadata": {},
     "output_type": "execute_result"
    },
    {
     "data": {
      "image/png": "[encoded data removed]",
      "text/plain": [
       "<matplotlib.figure.Figure at 0x7fe9c9c3b208>"
      ]
     },
     "metadata": {},
     "output_type": "display_data"
    }
   ],
   "source": [
    "#pat = r'(.*):\\s(.*)\\s(m|)s'\n",
    "pat = r'(.*)\\s(ms|s)\\s\\+'\n",
    "times = [ search(pat, i).group(1) for i in (mc_np.stdout, cy1.stdout, cy2.stdout)]\n",
    "times = np.array(list(map(float,times)))\n",
    "times[1:] = 1000.*times[1:]\n",
    "scale = 200\n",
    "colour = (\"k\",\"b\",\"r\",\"g\",\"m\")\n",
    "for point,method in enumerate((\"Numpy\",\"Cython - scalars\",\"Cython - np.ndarray\")):\n",
    "    plt.scatter(point+1,times[point],label=method,c=colour[point],s=scale,edgecolor=None,alpha=0.3)\n",
    "plt.legend()\n",
    "plt.ylabel(\"Elapsed time (ms)\")"
   ]
  },
  {
   "cell_type": "markdown",
   "metadata": {
    "slideshow": {
     "slide_type": "subslide"
    }
   },
   "source": [
    "Why is that? The reason is that working with NumPy arrays incurs substantial Python overheads.  \n",
    "The same hold for calling from inside a *almost pure C* function a Python function.  \n",
    "Cython’s **typed memoryviews**, which provide more direct access to arrays in memory.\n",
    "Like a standard numpy array view (e. g. a slice object) a **memoryview** stores information on a memory location without holding it. Being typed, the cython compiler can access it as it would with a standard C array, avoiding interpreter overhead.\n",
    "\n",
    "When using them, the first step is to create a NumPy array and then  declare a memoryview and bind it to the NumPy array."
   ]
  },
  {
   "cell_type": "code",
   "execution_count": 63,
   "metadata": {
    "slideshow": {
     "slide_type": "fragment"
    }
   },
   "outputs": [],
   "source": [
    "%%cython\n",
    "import numpy as np\n",
    "from numpy cimport float_t\n",
    "def mc_cy_3(int npoints):\n",
    "    cdef double PI, inside\n",
    "    cdef int i\n",
    "    x = 2. * np.random.rand(npoints) - 1.\n",
    "    y = 2. * np.random.rand(npoints) - 1.\n",
    "    cdef float_t [:] X = x\n",
    "    cdef float_t [:] Y = y\n",
    "    for i in range(npoints):\n",
    "        if X[i]*X[i] + Y[i]*Y[i] <= 1.:\n",
    "            inside += 1.\n",
    "    return 4. * inside / <double> npoints"
   ]
  },
  {
   "cell_type": "code",
   "execution_count": 64,
   "metadata": {
    "slideshow": {
     "slide_type": "fragment"
    }
   },
   "outputs": [
    {
     "data": {
      "text/plain": [
       "3.1422068"
      ]
     },
     "execution_count": 64,
     "metadata": {},
     "output_type": "execute_result"
    }
   ],
   "source": [
    "mc_cy_3(int(1e7))"
   ]
  },
  {
   "cell_type": "code",
   "execution_count": 65,
   "metadata": {
    "slideshow": {
     "slide_type": "fragment"
    }
   },
   "outputs": [],
   "source": [
    "%%capture cy3\n",
    "%%timeit \n",
    "mc_cy_3(int(1e7))"
   ]
  },
  {
   "cell_type": "code",
   "execution_count": 67,
   "metadata": {
    "slideshow": {
     "slide_type": "fragment"
    }
   },
   "outputs": [
    {
     "data": {
      "text/plain": [
       "'364 ms +- 1.75 ms per loop (mean +- std. dev. of 7 runs, 1 loop each)\\n'"
      ]
     },
     "execution_count": 67,
     "metadata": {},
     "output_type": "execute_result"
    }
   ],
   "source": [
    "cy3.stdout"
   ]
  },
  {
   "cell_type": "code",
   "execution_count": 72,
   "metadata": {
    "slideshow": {
     "slide_type": "fragment"
    }
   },
   "outputs": [
    {
     "data": {
      "text/plain": [
       "Text(0,0.5,'Elapsed time (ms)')"
      ]
     },
     "execution_count": 72,
     "metadata": {},
     "output_type": "execute_result"
    },
    {
     "data": {
      "image/png": "[encoded data removed]",
      "text/plain": [
       "<matplotlib.figure.Figure at 0x7fe9c9b29940>"
      ]
     },
     "metadata": {},
     "output_type": "display_data"
    }
   ],
   "source": [
    "pat = r'(.*)\\s(ms|s)\\s\\+'\n",
    "times = np.append(times,float(search(pat, cy3.stdout).group(1)))\n",
    "times = np.array(list(map(float,times)))\n",
    "scale = 200\n",
    "colour = (\"k\",\"b\",\"r\",\"g\",\"m\")\n",
    "for point,method in enumerate((\"Numpy\",\"Cython - scalars\",\"Cython - np.ndarray\",\"Cython - MVs\")):\n",
    "    plt.scatter(point+1,times[point],label=method,c=colour[point],s=scale,edgecolor=None,alpha=0.3)\n",
    "plt.legend()\n",
    "plt.ylabel(\"Elapsed time (ms)\")"
   ]
  },
  {
   "cell_type": "markdown",
   "metadata": {
    "slideshow": {
     "slide_type": "fragment"
    }
   },
   "source": [
    "Note that memoryviews supports a number of operations, including copy, in analogy with arrays:\n",
    "    new_mv[:] = old_mv   \n",
    "or\n",
    "    new_mv[...] = old_mv\n",
    "for all dimensions"
   ]
  },
  {
   "cell_type": "markdown",
   "metadata": {
    "slideshow": {
     "slide_type": "subslide"
    }
   },
   "source": [
    "The **`cimport`** statement is analogous to the Python **`import`** but works for Cython modules but for importing **C functions** from C libraries. E. g.:"
   ]
  },
  {
   "cell_type": "code",
   "execution_count": 97,
   "metadata": {
    "slideshow": {
     "slide_type": "fragment"
    }
   },
   "outputs": [],
   "source": [
    "%%cython\n",
    "from libc.stdlib cimport atoi\n",
    "\n",
    "cdef parse_charptr_to_py_int(char* s):\n",
    "    assert s is not NULL, \"byte string value is NULL\"\n",
    "    return atoi(s)  # note: atoi() has no error detection!"
   ]
  },
  {
   "cell_type": "markdown",
   "metadata": {
    "slideshow": {
     "slide_type": "subslide"
    }
   },
   "source": [
    "From the documentation (bold is mine):\n",
    "A Cython module can be split into two parts: a definition file with a **.pxd** suffix, containing *C declarations* that are to be available to other Cython modules, and an implementation file with a **.pyx** suffix, containing everything else. When a module wants to use something declared in another module’s definition file, it imports it using the **`cimport`** statement.\n",
    "\n",
    "A **.pxd** file that consists *solely of extern declarations* does not need to correspond to an actual .pyx file or Python module. This can make it a convenient place to put common declarations, for example declarations of functions from an external library that one wants to use in several modules."
   ]
  },
  {
   "cell_type": "code",
   "execution_count": 98,
   "metadata": {
    "slideshow": {
     "slide_type": "subslide"
    }
   },
   "outputs": [
    {
     "name": "stdout",
     "output_type": "stream",
     "text": [
      "Deprecated  cpython  libc  libcpp  numpy  openmp.pxd  posix\r\n"
     ]
    }
   ],
   "source": [
    "!ls /usr/lib64/python3.5/site-packages/Cython/Includes/"
   ]
  },
  {
   "cell_type": "code",
   "execution_count": 99,
   "metadata": {
    "slideshow": {
     "slide_type": "fragment"
    }
   },
   "outputs": [
    {
     "name": "stdout",
     "output_type": "stream",
     "text": [
      "__init__.pxd  math.pxd\r\n"
     ]
    }
   ],
   "source": [
    "!ls /usr/lib64/python3.5/site-packages/Cython/Includes/numpy"
   ]
  },
  {
   "cell_type": "code",
   "execution_count": 100,
   "metadata": {
    "slideshow": {
     "slide_type": "fragment"
    }
   },
   "outputs": [
    {
     "name": "stdout",
     "output_type": "stream",
     "text": [
      "ctypedef npy_double     float_t\n"
     ]
    }
   ],
   "source": [
    "%%bash\n",
    "cd /usr/lib64/python3.5/site-packages/Cython/Includes/numpy\n",
    "grep \" float_t\"  __init__.pxd "
   ]
  },
  {
   "cell_type": "code",
   "execution_count": 102,
   "metadata": {
    "slideshow": {
     "slide_type": "fragment"
    }
   },
   "outputs": [
    {
     "name": "stdout",
     "output_type": "stream",
     "text": [
      "/home/g.mancini/Dropbox/teach/calcolo_2018/10_mixl\n"
     ]
    }
   ],
   "source": [
    "%%bash\n",
    "pwd"
   ]
  },
  {
   "cell_type": "code",
   "execution_count": 103,
   "metadata": {
    "collapsed": true,
    "slideshow": {
     "slide_type": "subslide"
    }
   },
   "outputs": [],
   "source": [
    "%%cython\n",
    "cdef extern from \"string.h\":\n",
    "    int strlen(char *c)\n",
    "def get_len(char *message):\n",
    "    return strlen(message)"
   ]
  },
  {
   "cell_type": "code",
   "execution_count": 105,
   "metadata": {
    "slideshow": {
     "slide_type": "fragment"
    }
   },
   "outputs": [
    {
     "data": {
      "text/plain": [
       "14"
      ]
     },
     "execution_count": 105,
     "metadata": {},
     "output_type": "execute_result"
    }
   ],
   "source": [
    "get_len(bytearray(\"Jena Plinskeen\",encoding=\"ascii\"))"
   ]
  },
  {
   "cell_type": "markdown",
   "metadata": {
    "slideshow": {
     "slide_type": "subslide"
    }
   },
   "source": [
    "### The Global Interpreter Lock\n",
    "\n",
    "Python can use threads, but they can't be used to increase performance: only one Python instruction is allowed to run at any time. This is the **Global Interpreter Lock** (GIL). Each time a thread executes a Python statement, a lock is acquired which prevents other threads to run until it is released. The GIL avoids conflicts between threads, simplifying the implementation of the CPython (Jython and IronPython have no GIL) interpreter. Despite this limitation, threads can still be used to provide concurrency in situations where the lock can be released, such as in time-consuming I/O operations or in C extensions."
   ]
  },
  {
   "cell_type": "markdown",
   "metadata": {
    "slideshow": {
     "slide_type": "subslide"
    }
   },
   "source": [
    "#### Release the GIL and using OpenMP\n",
    "\n",
    "Cython supports native parallelism with OpenMP; it is also possible to MPI (e.g. with mpi4py) and it should be possible to exploit Cython to interface with C code using MPI or pthreads (not easy).  \n",
    "To use *all these kinds of parallelism*, we must *release the GIL*. Note that the GIL is released whenever using low-level C-code (e. g. with a multithreaded BLAS or ATLAS; but you have to build numpy against it).\n",
    "\n",
    "To use OpenMP within Cython you have to:\n",
    "\n",
    "1. Look into the **`cython.parallel`** module\n",
    "\n",
    "2. Release the GIL before a block of code:\n",
    "        with nogil:\n",
    "        \\# This block of code is executed after releasing the GIL\n",
    "        \n",
    "        with gil:\n",
    "        \\#this block of code will enable the GIL in a no-GIL context (kind of omp atomic or serial)\n",
    "               \n",
    "3. Parallelize for-loops with **`prange`**:\n",
    "        from cython.parallel import prange\n",
    "\n",
    "**`prange`** is a (sort of) short-hand Cython equivalent for:\n",
    "\n",
    "    #pragma omp parallel for private(i)\n",
    "    for(i = 1;i < N; i++)\n",
    "    {\n",
    "        ...\n",
    "    }\n",
    "        \n",
    "Note that any in-place operation is automatically taken to be a reduction variable, which means that the thread local values are combined after all threads have completed. Further, the index variable is always **lastprivate**, i.e. it will hold the value of the last thread executed. "
   ]
  },
  {
   "cell_type": "markdown",
   "metadata": {
    "slideshow": {
     "slide_type": "fragment"
    }
   },
   "source": [
    "- lastprivate: Specifies that the enclosing context's version of the variable is set equal to the private version of whichever thread executes the final iteration (for-loop construct) or last section (#pragma sections).\n",
    "\n",
    "- firstprivate: Specifies that each thread should have its own instance of a variable, and that the variable should be initialized with the value of the variable, because it exists before the parallel construct."
   ]
  },
  {
   "cell_type": "code",
   "execution_count": 75,
   "metadata": {
    "slideshow": {
     "slide_type": "subslide"
    }
   },
   "outputs": [],
   "source": [
    "%%cython --compile-args=-fopenmp --compile-args=-O2 --link-args=-fopenmp \n",
    "\n",
    "from cython.parallel import prange\n",
    "\n",
    "def pi_cy_omp(int niter,int NT=1):\n",
    "    \"\"\"\n",
    "    another version of arctg integration using Cython and realising the GIL\n",
    "    \"\"\"\n",
    "    cdef double x, mysum=.0, step=1./niter\n",
    "    cdef int i\n",
    "    # this is the equivalent of #pragma omp or !$OMP\n",
    "    for i in prange(niter,nogil=True,schedule='static',num_threads=NT):\n",
    "        x = (i+0.5)*step\n",
    "        mysum += 4.0/(x*x + 1.0)\n",
    "        \n",
    "    return mysum*step"
   ]
  },
  {
   "cell_type": "code",
   "execution_count": 76,
   "metadata": {
    "slideshow": {
     "slide_type": "fragment"
    }
   },
   "outputs": [
    {
     "data": {
      "text/plain": [
       "3.141592653589731"
      ]
     },
     "execution_count": 76,
     "metadata": {},
     "output_type": "execute_result"
    }
   ],
   "source": [
    "pi_cy_omp(int(1e7))"
   ]
  },
  {
   "cell_type": "code",
   "execution_count": 77,
   "metadata": {
    "slideshow": {
     "slide_type": "subslide"
    }
   },
   "outputs": [],
   "source": [
    "%%capture t1\n",
    "%timeit pi_cy_omp(int(1e7),1)"
   ]
  },
  {
   "cell_type": "code",
   "execution_count": 78,
   "metadata": {
    "slideshow": {
     "slide_type": "fragment"
    }
   },
   "outputs": [],
   "source": [
    "%%capture t2\n",
    "%timeit pi_cy_omp(int(1e7),2)"
   ]
  },
  {
   "cell_type": "code",
   "execution_count": 79,
   "metadata": {
    "slideshow": {
     "slide_type": "fragment"
    }
   },
   "outputs": [],
   "source": [
    "%%capture t4\n",
    "%timeit pi_cy_omp(int(1e7),4)"
   ]
  },
  {
   "cell_type": "code",
   "execution_count": 80,
   "metadata": {
    "slideshow": {
     "slide_type": "fragment"
    }
   },
   "outputs": [],
   "source": [
    "%%capture t6\n",
    "%timeit pi_cy_omp(int(1e7),6)"
   ]
  },
  {
   "cell_type": "code",
   "execution_count": 81,
   "metadata": {
    "slideshow": {
     "slide_type": "fragment"
    }
   },
   "outputs": [],
   "source": [
    "%%capture t8\n",
    "%timeit pi_cy_omp(int(1e7),8)"
   ]
  },
  {
   "cell_type": "code",
   "execution_count": 86,
   "metadata": {
    "slideshow": {
     "slide_type": "fragment"
    }
   },
   "outputs": [
    {
     "data": {
      "text/plain": [
       "'2.15 s +- 16.6 ms per loop (mean +- std. dev. of 7 runs, 1 loop each)\\n'"
      ]
     },
     "execution_count": 86,
     "metadata": {},
     "output_type": "execute_result"
    }
   ],
   "source": [
    "t1.stdout"
   ]
  },
  {
   "cell_type": "code",
   "execution_count": 97,
   "metadata": {
    "slideshow": {
     "slide_type": "fragment"
    }
   },
   "outputs": [
    {
     "data": {
      "text/plain": [
       "'646'"
      ]
     },
     "execution_count": 97,
     "metadata": {},
     "output_type": "execute_result"
    }
   ],
   "source": [
    "pat = r'(.*)\\s(ms|s)\\s\\+'\n",
    "res = search(pat,t8.stdout)\n",
    "res.group(1)"
   ]
  },
  {
   "cell_type": "code",
   "execution_count": 99,
   "metadata": {
    "slideshow": {
     "slide_type": "subslide"
    }
   },
   "outputs": [
    {
     "data": {
      "text/plain": [
       "[2150.0, 1120.0, 690.0, 652.0, 646.0]"
      ]
     },
     "execution_count": 99,
     "metadata": {},
     "output_type": "execute_result"
    },
    {
     "data": {
      "image/png": "[encoded data removed]",
      "text/plain": [
       "<matplotlib.figure.Figure at 0x7fe9cb386e48>"
      ]
     },
     "metadata": {},
     "output_type": "display_data"
    }
   ],
   "source": [
    "x   = np.array((1,2,4,6,8))\n",
    "#pat = r'(.*):\\s(.*)\\s(s|ms)'\n",
    "pat = r'(.*)\\s(ms|s)\\s\\+'\n",
    "cy = list()\n",
    "for i in (t1,t2,t4,t6,t8):\n",
    "    res = search(pat,i.stdout)\n",
    "    cy.append(float(res.group(1)))\n",
    "    if res.group(2) is \"s\":\n",
    "        cy[-1] = cy[-1]*1e3\n",
    "cy = list(map(float,cy))\n",
    "plt.plot(x,cy,marker='o',color='r',ls=':',label=\"Cython OpenMP test\")\n",
    "plt.legend()\n",
    "plt.xlabel(\"Number of cores\")\n",
    "plt.ylabel(\"Elapsed time (ms)\")\n",
    "cy"
   ]
  },
  {
   "cell_type": "markdown",
   "metadata": {
    "slideshow": {
     "slide_type": "subslide"
    }
   },
   "source": [
    "### compiler options from command line\n",
    "\n"
   ]
  },
  {
   "cell_type": "code",
   "execution_count": null,
   "metadata": {},
   "outputs": [],
   "source": [
    "XXX"
   ]
  },
  {
   "cell_type": "markdown",
   "metadata": {},
   "source": [
    "### some useful decorators"
   ]
  },
  {
   "cell_type": "code",
   "execution_count": null,
   "metadata": {},
   "outputs": [],
   "source": [
    "XXX"
   ]
  },
  {
   "cell_type": "markdown",
   "metadata": {},
   "source": [
    "### mpi4py"
   ]
  },
  {
   "cell_type": "markdown",
   "metadata": {},
   "source": [
    "@cython.cdivision(True)\n",
    "@cython.boundscheck(False)\n",
    "\n",
    "https://nyu-cds.github.io/courses/exercises/Cuda-1/\n",
    "\n",
    "decorators\n",
    "\n",
    "cuda\n",
    "threads?  \n",
    "\n",
    "https://notes-on-cython.readthedocs.io/en/latest/classes.html\n",
    "\n",
    "mpi4py?"
   ]
  },
  {
   "cell_type": "markdown",
   "metadata": {
    "slideshow": {
     "slide_type": "subslide"
    }
   },
   "source": [
    "### Exercise 1 \n",
    "\n",
    "Write a multithreaded version of MonteCarlo integration."
   ]
  },
  {
   "cell_type": "code",
   "execution_count": 83,
   "metadata": {
    "slideshow": {
     "slide_type": "fragment"
    }
   },
   "outputs": [
    {
     "data": {
      "image/png": "[encoded data removed]",
      "text/plain": [
       "<IPython.core.display.Image object>"
      ]
     },
     "execution_count": 83,
     "metadata": {},
     "output_type": "execute_result"
    }
   ],
   "source": [
    "Image(\"pictures/gears.png\")"
   ]
  },
  {
   "cell_type": "markdown",
   "metadata": {
    "slideshow": {
     "slide_type": "skip"
    }
   },
   "source": [
    "<a id=\"three\"></a>"
   ]
  },
  {
   "cell_type": "markdown",
   "metadata": {
    "slideshow": {
     "slide_type": "slide"
    }
   },
   "source": [
    "# 3 - For those about Fortran: F2PY"
   ]
  },
  {
   "cell_type": "markdown",
   "metadata": {
    "slideshow": {
     "slide_type": "subslide"
    }
   },
   "source": [
    "The purpose of the [F2PY](#http://docs.scipy.org/doc/numpy-dev/f2py/) –Fortran to Python interface generator– project is to provide a connection between Python and Fortran languages. F2PY is a Python package (with a command line tool, **f2py** and a module, **f2py2e** that facilitates creating/building Python C/API extension modules.\n",
    "\n",
    "Let's write a Fortran subroutine"
   ]
  },
  {
   "cell_type": "code",
   "execution_count": null,
   "metadata": {
    "slideshow": {
     "slide_type": "fragment"
    }
   },
   "outputs": [],
   "source": [
    "%%writefile jac_solv.f95\n",
    " module fjac\n",
    " contains\n",
    " subroutine jacsolv(kmax,A,b,xold,conv,xnew,order)\n",
    " implicit none\n",
    "\n",
    " integer :: order\n",
    " real(8), dimension(0:order-1,0:order-1) :: A\n",
    " real(8), dimension(0:order-1) :: xold,b\n",
    " real(8), dimension(0:order-1) :: xnew\n",
    " !f2py intent(in)    order\n",
    " !f2py intent(out)   xnew\n",
    " !f2py depend(order) xnew\n",
    " \n",
    " integer :: i, k, kmax\n",
    " !f2py intent(in,out) kmax\n",
    " real(8) :: conv, tol\n",
    " !f2py intent(out) conv\n",
    " real(8), dimension(0:order-1) :: dd, xtmp\n",
    " real(8), dimension(0:order-1, 0:order-1) :: R, D\n",
    "\n",
    " conv  = kmax\n",
    " tol   = 1e-8\n",
    "\n",
    " xtmp = xold\n",
    " xnew = 1.\n",
    " forall (i=0:size(dd)-1) D(i,i) = A(i,i)\n",
    " forall (i=0:size(dd)-1) dd(i)   = 1./A(i,i)\n",
    " R = A-D\n",
    "\n",
    " do k=1,kmax\n",
    "     conv = 0.\n",
    "     do i = 0,order-1\n",
    "         xnew(i) = (b(i) - DOT_PRODUCT(xtmp,R(i,:)) )*dd(i)\n",
    "     end do\n",
    "     conv = SUM((xnew-xtmp)*(xnew-xtmp))\n",
    "\n",
    "     if (conv <= tol) then\n",
    "         exit\n",
    "     end if\n",
    "\n",
    "     xtmp = xnew\n",
    "\n",
    " end do\n",
    " \n",
    " kmax = k\n",
    " \n",
    " end subroutine\n",
    " end module fjac"
   ]
  },
  {
   "cell_type": "markdown",
   "metadata": {
    "collapsed": true,
    "slideshow": {
     "slide_type": "fragment"
    }
   },
   "source": [
    "This is quite standard Fortran 95 code, with the exception of the **!f2py** lines which are preprocessor directives (like the \\#pragma ones).\n",
    "\n",
    "Instead of directly calling *gfortran* we use f2py3 to generate the appropriate wrapping code and then compile:"
   ]
  },
  {
   "cell_type": "code",
   "execution_count": null,
   "metadata": {
    "collapsed": true,
    "slideshow": {
     "slide_type": "subslide"
    }
   },
   "outputs": [],
   "source": [
    "%%capture f2py_out\n",
    "!f2py -c --fcompiler=gnu95 --compiler=unix jac_solv.f95 -m fjac"
   ]
  },
  {
   "cell_type": "code",
   "execution_count": null,
   "metadata": {
    "slideshow": {
     "slide_type": "fragment"
    }
   },
   "outputs": [],
   "source": [
    "!ls -rt"
   ]
  },
  {
   "cell_type": "code",
   "execution_count": null,
   "metadata": {
    "collapsed": true,
    "slideshow": {
     "slide_type": "fragment"
    }
   },
   "outputs": [],
   "source": [
    "import fjac"
   ]
  },
  {
   "cell_type": "code",
   "execution_count": null,
   "metadata": {
    "slideshow": {
     "slide_type": "fragment"
    }
   },
   "outputs": [],
   "source": [
    "fjac.__doc__"
   ]
  },
  {
   "cell_type": "code",
   "execution_count": null,
   "metadata": {
    "slideshow": {
     "slide_type": "fragment"
    }
   },
   "outputs": [],
   "source": [
    "A,b,x_0 = gen_jac(10000)\n",
    "A.shape[0]"
   ]
  },
  {
   "cell_type": "code",
   "execution_count": null,
   "metadata": {
    "slideshow": {
     "slide_type": "fragment"
    }
   },
   "outputs": [],
   "source": [
    "nk, conv, xnew = fjac.fjac(100,A,b,x_0,A.shape[0])\n",
    "print(nk,conv)"
   ]
  },
  {
   "cell_type": "code",
   "execution_count": null,
   "metadata": {
    "slideshow": {
     "slide_type": "fragment"
    }
   },
   "outputs": [],
   "source": [
    "%timeit nk, conv, xnew = fjac.fjac(100,A,b,x_0,A.shape[0])"
   ]
  },
  {
   "cell_type": "markdown",
   "metadata": {
    "slideshow": {
     "slide_type": "skip"
    }
   },
   "source": [
    "<a id=\"four\"></a>"
   ]
  },
  {
   "cell_type": "markdown",
   "metadata": {
    "slideshow": {
     "slide_type": "slide"
    }
   },
   "source": [
    "# 4 - The simple Wrapper Interface Generator (SWIG)"
   ]
  },
  {
   "cell_type": "markdown",
   "metadata": {
    "slideshow": {
     "slide_type": "subslide"
    }
   },
   "source": [
    "From the documentation:\n",
    "\n",
    "[SWIG](#http://www.swig.org/) is a software development tool that connects programs written in C and C++ with a variety of high-level programming languages. SWIG is used with different types of target languages including common scripting languages such as Javascript, Perl, PHP, Python, Tcl and Ruby."
   ]
  },
  {
   "cell_type": "markdown",
   "metadata": {
    "slideshow": {
     "slide_type": "subslide"
    }
   },
   "source": [
    "When using SWIG you have to create an interface file (**.i**) which is similar to a header file and tells to the **swig** program how to relate Python objects to C/C++ types in the module. The **.i** file is used in the compilation step to produce C/C++ files encapsulating C/C++ files for the high level language. \n",
    "\n",
    "Even if \"less flexible\" than Cython or F2py is also a more general and sometimes easier tool since to use and also let you to interface the same low-level code with multiple interfaces.\n",
    "\n",
    "A simple example:\n",
    "\n",
    "    %module testswig\n",
    "    %{\n",
    "    #include \"test.h\"\n",
    "    %}\n",
    "    %include \"test.h\"\n",
    "    \n",
    "the **%module** specifies the name of the module to be generated from this wrapper file. The code between the **%{ %}** is placed, verbatim, in the C output file.\n",
    "\n",
    "An interface for SWIG and Numpy [used to be distributed with Numpy](#http://docs.scipy.org/doc/numpy/reference/swig.interface-file.html) and can be now found [here](#https://github.com/numpy/numpy/tree/master/tools/swig). To estimate $\\pi$ using MonteCarlo by passing Numpy arrays to an underlying C function we need:\n",
    "\n",
    "1. a SWIG interface file (**.i**)\n",
    "2. a C module\n",
    "3. a Makefile"
   ]
  },
  {
   "cell_type": "code",
   "execution_count": 100,
   "metadata": {
    "slideshow": {
     "slide_type": "fragment"
    }
   },
   "outputs": [
    {
     "name": "stdout",
     "output_type": "stream",
     "text": [
      "/home/gmancini/Dropbox/teach/calcolo_2018/10_mixl/swig\n"
     ]
    }
   ],
   "source": [
    "%cd swig\n",
    "%clean"
   ]
  },
  {
   "cell_type": "code",
   "execution_count": 101,
   "metadata": {
    "slideshow": {
     "slide_type": "subslide"
    }
   },
   "outputs": [
    {
     "name": "stdout",
     "output_type": "stream",
     "text": [
      "Writing swigmc.c\n"
     ]
    }
   ],
   "source": [
    "%%writefile swigmc.c\n",
    "#include <stdio.h>\n",
    "#include <stdlib.h>\n",
    "#include \"swigmc.h\"\n",
    "\n",
    "double calcpi(double *x, double *y, int npoints){\n",
    "\n",
    "    int    i, inside=0;\n",
    "    double r2, pi;\n",
    "    for(i=0;i<npoints;i++){\n",
    "        r2 = x[i]*x[i] + y[i]*y[i];\n",
    "        if(r2<=1.0){\n",
    "            inside++;\n",
    "        }\n",
    "    }\n",
    "\n",
    "    pi = (4.0* ((double) inside))/ ((double) npoints);\n",
    "    printf(\"%f %f\\n\",x[0],y[0]);\n",
    "    return pi;\n",
    "}"
   ]
  },
  {
   "cell_type": "code",
   "execution_count": 102,
   "metadata": {
    "slideshow": {
     "slide_type": "fragment"
    }
   },
   "outputs": [
    {
     "name": "stdout",
     "output_type": "stream",
     "text": [
      "Writing swigmc.h\n"
     ]
    }
   ],
   "source": [
    "%%writefile swigmc.h\n",
    "double calcpi(double *x, double *y, int npoints);"
   ]
  },
  {
   "cell_type": "code",
   "execution_count": 103,
   "metadata": {
    "slideshow": {
     "slide_type": "subslide"
    }
   },
   "outputs": [
    {
     "name": "stdout",
     "output_type": "stream",
     "text": [
      "Overwriting swigmc.i\n"
     ]
    }
   ],
   "source": [
    "%%writefile swigmc.i\n",
    "%module swigmc\n",
    "%{\n",
    "#define SWIG_FILE_WITH_INIT\n",
    "#include <stdio.h>\n",
    "#include <stdlib.h>\n",
    "#include \"swigmc.h\"\n",
    "%}\n",
    "\n",
    "%include \"numpy.i\"\n",
    "\n",
    "%init %{\n",
    "import_array();\n",
    "%}\n",
    "\n",
    "%apply (int DIM1, double* IN_ARRAY1) {(int npx, double* x)};\n",
    "%apply (int DIM1, double* IN_ARRAY1) {(int npy, double* y)};\n",
    "\n",
    "%inline %{\n",
    "        double swigpi(int npx, double* x, int npy, double* y){\n",
    "                printf(\"%f %f\\n\",x[0],y[0]);\n",
    "                double PI;\n",
    "                PI = calcpi(x,y,npx);\n",
    "                return PI;\n",
    "        }\n",
    "%}"
   ]
  },
  {
   "cell_type": "code",
   "execution_count": 108,
   "metadata": {
    "slideshow": {
     "slide_type": "subslide"
    }
   },
   "outputs": [
    {
     "name": "stdout",
     "output_type": "stream",
     "text": [
      "Overwriting Makefile\n"
     ]
    }
   ],
   "source": [
    "%%writefile Makefile\n",
    "#Makefile for xdrlib with python SWIG interface\n",
    "#Giordano Mancini Sept 2012\n",
    "CC     = gcc\n",
    "CFLAGS = -O2 -Wall -march=native -mtune=native -msse4.2 -fPIC\n",
    "F77    = gfortran\n",
    "FFLAGS = $(CFLAGS)\n",
    "SHELL  = /bin/sh\n",
    "OBJECTS = swigmc.o\n",
    "INCLUDE = swigmc.h \n",
    "CPPFLAGS = -I/usr/include/python2.7 -I/usr/lib64/python2.7/site-packages/numpy/core/include/ \\\n",
    "-I/usr/lib/python2.7/site-packages/numpy/core/include/\n",
    "SWIG     = swig \n",
    "SWIGOPT  = -python -Wall\n",
    "SWIGOBJS = swigmc_wrap.o\n",
    "\n",
    "all: clean swigmc\n",
    "\n",
    "swigmc: $(OBJECTS) $(SWIGOBJS)\n",
    "\t$(CC) -shared -o _swigmc.so $(OBJECTS) $(SWIGOBJS)\n",
    "\n",
    "swigmc_wrap.c: swigmc.i\n",
    "\t$(SWIG) $(SWIGOPT) swigmc.i\n",
    "\t\n",
    "swigmc_wrap.o: swigmc_wrap.c\n",
    "\t$(CC) $(CFLAGS) $(CPPFLAGS) -c swigmc.c swigmc_wrap.c\n",
    "\n",
    "clean:\n",
    "\trm -f *.so *.o *.pyc swigmc_wrap.c *py *gch\n",
    "\t\n",
    ".SUFFIXES : .c .h .o\n",
    "\n",
    ".c.o:\n",
    "\t$(CC) $(INCLUDE) $(CFLAGS) -c $*.c"
   ]
  },
  {
   "cell_type": "code",
   "execution_count": 109,
   "metadata": {
    "scrolled": false,
    "slideshow": {
     "slide_type": "fragment"
    }
   },
   "outputs": [
    {
     "name": "stdout",
     "output_type": "stream",
     "text": [
      "rm -f *.so *.o *.pyc swigmc_wrap.c *py *gch\n",
      "rm -f *.so *.o *.pyc swigmc_wrap.c *py *gch\n",
      "gcc swigmc.h  -O2 -Wall -march=native -mtune=native -msse4.2 -fPIC -c swigmc.c\n",
      "swig  -python -Wall swigmc.i\n",
      "gcc -O2 -Wall -march=native -mtune=native -msse4.2 -fPIC -I/usr/include/python2.7 -I/usr/lib64/python2.7/site-packages/numpy/core/include/ -I/usr/lib/python2.7/site-packages/numpy/core/include/ -c swigmc.c swigmc_wrap.c\n",
      "\u001b[01m\u001b[Kswigmc_wrap.c:149:11:\u001b[m\u001b[K \u001b[01;31m\u001b[Kfatal error: \u001b[m\u001b[KPython.h: No such file or directory\n",
      " # include \u001b[01;31m\u001b[K<Python.h>\u001b[m\u001b[K\n",
      "           \u001b[01;31m\u001b[K^~~~~~~~~~\u001b[m\u001b[K\n",
      "compilation terminated.\n",
      "Makefile:25: recipe for target 'swigmc_wrap.o' failed\n",
      "make: *** [swigmc_wrap.o] Error 1\n"
     ]
    }
   ],
   "source": [
    "!make clean && make"
   ]
  },
  {
   "cell_type": "code",
   "execution_count": 106,
   "metadata": {
    "slideshow": {
     "slide_type": "subslide"
    }
   },
   "outputs": [
    {
     "name": "stdout",
     "output_type": "stream",
     "text": [
      "Overwriting test.PY\n"
     ]
    }
   ],
   "source": [
    "%%writefile test.PY\n",
    "import numpy as np\n",
    "import swigmc\n",
    "\n",
    "npoints = int(1e7)\n",
    "x = 2.*np.random.rand(npoints)-1\n",
    "y = 2.*np.random.rand(npoints)-1\n",
    "print(x[0],y[0])\n",
    "\n",
    "pi = swigmc.swigpi(x,y)\n",
    "print(pi)"
   ]
  },
  {
   "cell_type": "code",
   "execution_count": 107,
   "metadata": {
    "slideshow": {
     "slide_type": "fragment"
    }
   },
   "outputs": [
    {
     "name": "stderr",
     "output_type": "stream",
     "text": [
      "Traceback (most recent call last):\n",
      "  File \"test.PY\", line 2, in <module>\n",
      "    import swigmc\n",
      "  File \"/home/gmancini/Dropbox/teach/calcolo_2018/10_mixl/swig/swigmc.py\", line 21, in <module>\n",
      "    _swigmc = swig_import_helper()\n",
      "  File \"/home/gmancini/Dropbox/teach/calcolo_2018/10_mixl/swig/swigmc.py\", line 20, in swig_import_helper\n",
      "    return importlib.import_module('_swigmc')\n",
      "  File \"/usr/lib/python2.7/importlib/__init__.py\", line 37, in import_module\n",
      "    __import__(name)\n",
      "ImportError: No module named _swigmc\n"
     ]
    }
   ],
   "source": [
    "%%bash\n",
    "#module load python-2.7\n",
    "python test.PY"
   ]
  },
  {
   "cell_type": "code",
   "execution_count": null,
   "metadata": {
    "slideshow": {
     "slide_type": "fragment"
    }
   },
   "outputs": [],
   "source": [
    "%cd .."
   ]
  }
 ],
 "metadata": {
  "celltoolbar": "Slideshow",
  "kernelspec": {
   "display_name": "Python 3",
   "language": "python",
   "name": "python3"
  },
  "language_info": {
   "codemirror_mode": {
    "name": "ipython",
    "version": 3
   },
   "file_extension": ".py",
   "mimetype": "text/x-python",
   "name": "python",
   "nbconvert_exporter": "python",
   "pygments_lexer": "ipython3",
   "version": "3.6.3"
  }
 },
 "nbformat": 4,
 "nbformat_minor": 1
}
